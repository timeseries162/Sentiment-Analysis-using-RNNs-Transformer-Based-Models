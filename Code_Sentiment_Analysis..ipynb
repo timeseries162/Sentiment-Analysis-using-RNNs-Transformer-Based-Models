{
  "nbformat": 4,
  "nbformat_minor": 0,
  "metadata": {
    "colab": {
      "name": "ST449 Project.ipynb",
      "provenance": [],
      "collapsed_sections": [
        "-hW84xP6artB",
        "EKBj6omr4wUq",
        "cSESLOezNgQs",
        "TiLPk6DfN2J9",
        "xkOBO9BPGKTF",
        "TiNtfSobSlh3",
        "9wGATKSQjFZq"
      ],
      "machine_shape": "hm"
    },
    "kernelspec": {
      "name": "python3",
      "display_name": "Python 3"
    },
    "language_info": {
      "name": "python"
    },
    "accelerator": "TPU"
  },
  "cells": [
    {
      "cell_type": "markdown",
      "metadata": {
        "id": "-hW84xP6artB"
      },
      "source": [
        "# Naive Bayes "
      ]
    },
    {
      "cell_type": "code",
      "metadata": {
        "colab": {
          "base_uri": "https://localhost:8080/"
        },
        "id": "_87ilfl1ak-T",
        "outputId": "bd498016-ba6f-4eb4-83a9-ee132505734b"
      },
      "source": [
        "# import nltk\n",
        "import nltk \n",
        "nltk.download('all') \n"
      ],
      "execution_count": null,
      "outputs": [
        {
          "output_type": "stream",
          "text": [
            "[nltk_data] Downloading collection 'all'\n",
            "[nltk_data]    | \n",
            "[nltk_data]    | Downloading package abc to /root/nltk_data...\n",
            "[nltk_data]    |   Unzipping corpora/abc.zip.\n",
            "[nltk_data]    | Downloading package alpino to /root/nltk_data...\n",
            "[nltk_data]    |   Unzipping corpora/alpino.zip.\n",
            "[nltk_data]    | Downloading package biocreative_ppi to\n",
            "[nltk_data]    |     /root/nltk_data...\n",
            "[nltk_data]    |   Unzipping corpora/biocreative_ppi.zip.\n",
            "[nltk_data]    | Downloading package brown to /root/nltk_data...\n",
            "[nltk_data]    |   Unzipping corpora/brown.zip.\n",
            "[nltk_data]    | Downloading package brown_tei to /root/nltk_data...\n",
            "[nltk_data]    |   Unzipping corpora/brown_tei.zip.\n",
            "[nltk_data]    | Downloading package cess_cat to /root/nltk_data...\n",
            "[nltk_data]    |   Unzipping corpora/cess_cat.zip.\n",
            "[nltk_data]    | Downloading package cess_esp to /root/nltk_data...\n",
            "[nltk_data]    |   Unzipping corpora/cess_esp.zip.\n",
            "[nltk_data]    | Downloading package chat80 to /root/nltk_data...\n",
            "[nltk_data]    |   Unzipping corpora/chat80.zip.\n",
            "[nltk_data]    | Downloading package city_database to\n",
            "[nltk_data]    |     /root/nltk_data...\n",
            "[nltk_data]    |   Unzipping corpora/city_database.zip.\n",
            "[nltk_data]    | Downloading package cmudict to /root/nltk_data...\n",
            "[nltk_data]    |   Unzipping corpora/cmudict.zip.\n",
            "[nltk_data]    | Downloading package comparative_sentences to\n",
            "[nltk_data]    |     /root/nltk_data...\n",
            "[nltk_data]    |   Unzipping corpora/comparative_sentences.zip.\n",
            "[nltk_data]    | Downloading package comtrans to /root/nltk_data...\n",
            "[nltk_data]    | Downloading package conll2000 to /root/nltk_data...\n",
            "[nltk_data]    |   Unzipping corpora/conll2000.zip.\n",
            "[nltk_data]    | Downloading package conll2002 to /root/nltk_data...\n",
            "[nltk_data]    |   Unzipping corpora/conll2002.zip.\n",
            "[nltk_data]    | Downloading package conll2007 to /root/nltk_data...\n",
            "[nltk_data]    | Downloading package crubadan to /root/nltk_data...\n",
            "[nltk_data]    |   Unzipping corpora/crubadan.zip.\n",
            "[nltk_data]    | Downloading package dependency_treebank to\n",
            "[nltk_data]    |     /root/nltk_data...\n",
            "[nltk_data]    |   Unzipping corpora/dependency_treebank.zip.\n",
            "[nltk_data]    | Downloading package dolch to /root/nltk_data...\n",
            "[nltk_data]    |   Unzipping corpora/dolch.zip.\n",
            "[nltk_data]    | Downloading package europarl_raw to\n",
            "[nltk_data]    |     /root/nltk_data...\n",
            "[nltk_data]    |   Unzipping corpora/europarl_raw.zip.\n",
            "[nltk_data]    | Downloading package floresta to /root/nltk_data...\n",
            "[nltk_data]    |   Unzipping corpora/floresta.zip.\n",
            "[nltk_data]    | Downloading package framenet_v15 to\n",
            "[nltk_data]    |     /root/nltk_data...\n",
            "[nltk_data]    |   Unzipping corpora/framenet_v15.zip.\n",
            "[nltk_data]    | Downloading package framenet_v17 to\n",
            "[nltk_data]    |     /root/nltk_data...\n",
            "[nltk_data]    |   Unzipping corpora/framenet_v17.zip.\n",
            "[nltk_data]    | Downloading package gazetteers to /root/nltk_data...\n",
            "[nltk_data]    |   Unzipping corpora/gazetteers.zip.\n",
            "[nltk_data]    | Downloading package genesis to /root/nltk_data...\n",
            "[nltk_data]    |   Unzipping corpora/genesis.zip.\n",
            "[nltk_data]    | Downloading package gutenberg to /root/nltk_data...\n",
            "[nltk_data]    |   Unzipping corpora/gutenberg.zip.\n",
            "[nltk_data]    | Downloading package ieer to /root/nltk_data...\n",
            "[nltk_data]    |   Unzipping corpora/ieer.zip.\n",
            "[nltk_data]    | Downloading package inaugural to /root/nltk_data...\n",
            "[nltk_data]    |   Unzipping corpora/inaugural.zip.\n",
            "[nltk_data]    | Downloading package indian to /root/nltk_data...\n",
            "[nltk_data]    |   Unzipping corpora/indian.zip.\n",
            "[nltk_data]    | Downloading package jeita to /root/nltk_data...\n",
            "[nltk_data]    | Downloading package kimmo to /root/nltk_data...\n",
            "[nltk_data]    |   Unzipping corpora/kimmo.zip.\n",
            "[nltk_data]    | Downloading package knbc to /root/nltk_data...\n",
            "[nltk_data]    | Downloading package lin_thesaurus to\n",
            "[nltk_data]    |     /root/nltk_data...\n",
            "[nltk_data]    |   Unzipping corpora/lin_thesaurus.zip.\n",
            "[nltk_data]    | Downloading package mac_morpho to /root/nltk_data...\n",
            "[nltk_data]    |   Unzipping corpora/mac_morpho.zip.\n",
            "[nltk_data]    | Downloading package machado to /root/nltk_data...\n",
            "[nltk_data]    | Downloading package masc_tagged to /root/nltk_data...\n",
            "[nltk_data]    | Downloading package moses_sample to\n",
            "[nltk_data]    |     /root/nltk_data...\n",
            "[nltk_data]    |   Unzipping models/moses_sample.zip.\n",
            "[nltk_data]    | Downloading package movie_reviews to\n",
            "[nltk_data]    |     /root/nltk_data...\n",
            "[nltk_data]    |   Unzipping corpora/movie_reviews.zip.\n",
            "[nltk_data]    | Downloading package names to /root/nltk_data...\n",
            "[nltk_data]    |   Unzipping corpora/names.zip.\n",
            "[nltk_data]    | Downloading package nombank.1.0 to /root/nltk_data...\n",
            "[nltk_data]    | Downloading package nps_chat to /root/nltk_data...\n",
            "[nltk_data]    |   Unzipping corpora/nps_chat.zip.\n",
            "[nltk_data]    | Downloading package omw to /root/nltk_data...\n",
            "[nltk_data]    |   Unzipping corpora/omw.zip.\n",
            "[nltk_data]    | Downloading package opinion_lexicon to\n",
            "[nltk_data]    |     /root/nltk_data...\n",
            "[nltk_data]    |   Unzipping corpora/opinion_lexicon.zip.\n",
            "[nltk_data]    | Downloading package paradigms to /root/nltk_data...\n",
            "[nltk_data]    |   Unzipping corpora/paradigms.zip.\n",
            "[nltk_data]    | Downloading package pil to /root/nltk_data...\n",
            "[nltk_data]    |   Unzipping corpora/pil.zip.\n",
            "[nltk_data]    | Downloading package pl196x to /root/nltk_data...\n",
            "[nltk_data]    |   Unzipping corpora/pl196x.zip.\n",
            "[nltk_data]    | Downloading package ppattach to /root/nltk_data...\n",
            "[nltk_data]    |   Unzipping corpora/ppattach.zip.\n",
            "[nltk_data]    | Downloading package problem_reports to\n",
            "[nltk_data]    |     /root/nltk_data...\n",
            "[nltk_data]    |   Unzipping corpora/problem_reports.zip.\n",
            "[nltk_data]    | Downloading package propbank to /root/nltk_data...\n",
            "[nltk_data]    | Downloading package ptb to /root/nltk_data...\n",
            "[nltk_data]    |   Unzipping corpora/ptb.zip.\n",
            "[nltk_data]    | Downloading package product_reviews_1 to\n",
            "[nltk_data]    |     /root/nltk_data...\n",
            "[nltk_data]    |   Unzipping corpora/product_reviews_1.zip.\n",
            "[nltk_data]    | Downloading package product_reviews_2 to\n",
            "[nltk_data]    |     /root/nltk_data...\n",
            "[nltk_data]    |   Unzipping corpora/product_reviews_2.zip.\n",
            "[nltk_data]    | Downloading package pros_cons to /root/nltk_data...\n",
            "[nltk_data]    |   Unzipping corpora/pros_cons.zip.\n",
            "[nltk_data]    | Downloading package qc to /root/nltk_data...\n",
            "[nltk_data]    |   Unzipping corpora/qc.zip.\n",
            "[nltk_data]    | Downloading package reuters to /root/nltk_data...\n",
            "[nltk_data]    | Downloading package rte to /root/nltk_data...\n",
            "[nltk_data]    |   Unzipping corpora/rte.zip.\n",
            "[nltk_data]    | Downloading package semcor to /root/nltk_data...\n",
            "[nltk_data]    | Downloading package senseval to /root/nltk_data...\n",
            "[nltk_data]    |   Unzipping corpora/senseval.zip.\n",
            "[nltk_data]    | Downloading package sentiwordnet to\n",
            "[nltk_data]    |     /root/nltk_data...\n",
            "[nltk_data]    |   Unzipping corpora/sentiwordnet.zip.\n",
            "[nltk_data]    | Downloading package sentence_polarity to\n",
            "[nltk_data]    |     /root/nltk_data...\n",
            "[nltk_data]    |   Unzipping corpora/sentence_polarity.zip.\n",
            "[nltk_data]    | Downloading package shakespeare to /root/nltk_data...\n",
            "[nltk_data]    |   Unzipping corpora/shakespeare.zip.\n",
            "[nltk_data]    | Downloading package sinica_treebank to\n",
            "[nltk_data]    |     /root/nltk_data...\n",
            "[nltk_data]    |   Unzipping corpora/sinica_treebank.zip.\n",
            "[nltk_data]    | Downloading package smultron to /root/nltk_data...\n",
            "[nltk_data]    |   Unzipping corpora/smultron.zip.\n",
            "[nltk_data]    | Downloading package state_union to /root/nltk_data...\n",
            "[nltk_data]    |   Unzipping corpora/state_union.zip.\n",
            "[nltk_data]    | Downloading package stopwords to /root/nltk_data...\n",
            "[nltk_data]    |   Unzipping corpora/stopwords.zip.\n",
            "[nltk_data]    | Downloading package subjectivity to\n",
            "[nltk_data]    |     /root/nltk_data...\n",
            "[nltk_data]    |   Unzipping corpora/subjectivity.zip.\n",
            "[nltk_data]    | Downloading package swadesh to /root/nltk_data...\n",
            "[nltk_data]    |   Unzipping corpora/swadesh.zip.\n",
            "[nltk_data]    | Downloading package switchboard to /root/nltk_data...\n",
            "[nltk_data]    |   Unzipping corpora/switchboard.zip.\n",
            "[nltk_data]    | Downloading package timit to /root/nltk_data...\n",
            "[nltk_data]    |   Unzipping corpora/timit.zip.\n",
            "[nltk_data]    | Downloading package toolbox to /root/nltk_data...\n",
            "[nltk_data]    |   Unzipping corpora/toolbox.zip.\n",
            "[nltk_data]    | Downloading package treebank to /root/nltk_data...\n",
            "[nltk_data]    |   Unzipping corpora/treebank.zip.\n",
            "[nltk_data]    | Downloading package twitter_samples to\n",
            "[nltk_data]    |     /root/nltk_data...\n",
            "[nltk_data]    |   Unzipping corpora/twitter_samples.zip.\n",
            "[nltk_data]    | Downloading package udhr to /root/nltk_data...\n",
            "[nltk_data]    |   Unzipping corpora/udhr.zip.\n",
            "[nltk_data]    | Downloading package udhr2 to /root/nltk_data...\n",
            "[nltk_data]    |   Unzipping corpora/udhr2.zip.\n",
            "[nltk_data]    | Downloading package unicode_samples to\n",
            "[nltk_data]    |     /root/nltk_data...\n",
            "[nltk_data]    |   Unzipping corpora/unicode_samples.zip.\n",
            "[nltk_data]    | Downloading package universal_treebanks_v20 to\n",
            "[nltk_data]    |     /root/nltk_data...\n",
            "[nltk_data]    | Downloading package verbnet to /root/nltk_data...\n",
            "[nltk_data]    |   Unzipping corpora/verbnet.zip.\n",
            "[nltk_data]    | Downloading package verbnet3 to /root/nltk_data...\n",
            "[nltk_data]    |   Unzipping corpora/verbnet3.zip.\n",
            "[nltk_data]    | Downloading package webtext to /root/nltk_data...\n",
            "[nltk_data]    |   Unzipping corpora/webtext.zip.\n",
            "[nltk_data]    | Downloading package wordnet to /root/nltk_data...\n",
            "[nltk_data]    |   Unzipping corpora/wordnet.zip.\n",
            "[nltk_data]    | Downloading package wordnet_ic to /root/nltk_data...\n",
            "[nltk_data]    |   Unzipping corpora/wordnet_ic.zip.\n",
            "[nltk_data]    | Downloading package words to /root/nltk_data...\n",
            "[nltk_data]    |   Unzipping corpora/words.zip.\n",
            "[nltk_data]    | Downloading package ycoe to /root/nltk_data...\n",
            "[nltk_data]    |   Unzipping corpora/ycoe.zip.\n",
            "[nltk_data]    | Downloading package rslp to /root/nltk_data...\n",
            "[nltk_data]    |   Unzipping stemmers/rslp.zip.\n",
            "[nltk_data]    | Downloading package maxent_treebank_pos_tagger to\n",
            "[nltk_data]    |     /root/nltk_data...\n",
            "[nltk_data]    |   Unzipping taggers/maxent_treebank_pos_tagger.zip.\n",
            "[nltk_data]    | Downloading package universal_tagset to\n",
            "[nltk_data]    |     /root/nltk_data...\n",
            "[nltk_data]    |   Unzipping taggers/universal_tagset.zip.\n",
            "[nltk_data]    | Downloading package maxent_ne_chunker to\n",
            "[nltk_data]    |     /root/nltk_data...\n",
            "[nltk_data]    |   Unzipping chunkers/maxent_ne_chunker.zip.\n",
            "[nltk_data]    | Downloading package punkt to /root/nltk_data...\n",
            "[nltk_data]    |   Unzipping tokenizers/punkt.zip.\n",
            "[nltk_data]    | Downloading package book_grammars to\n",
            "[nltk_data]    |     /root/nltk_data...\n",
            "[nltk_data]    |   Unzipping grammars/book_grammars.zip.\n",
            "[nltk_data]    | Downloading package sample_grammars to\n",
            "[nltk_data]    |     /root/nltk_data...\n",
            "[nltk_data]    |   Unzipping grammars/sample_grammars.zip.\n",
            "[nltk_data]    | Downloading package spanish_grammars to\n",
            "[nltk_data]    |     /root/nltk_data...\n",
            "[nltk_data]    |   Unzipping grammars/spanish_grammars.zip.\n",
            "[nltk_data]    | Downloading package basque_grammars to\n",
            "[nltk_data]    |     /root/nltk_data...\n",
            "[nltk_data]    |   Unzipping grammars/basque_grammars.zip.\n",
            "[nltk_data]    | Downloading package large_grammars to\n",
            "[nltk_data]    |     /root/nltk_data...\n",
            "[nltk_data]    |   Unzipping grammars/large_grammars.zip.\n",
            "[nltk_data]    | Downloading package tagsets to /root/nltk_data...\n",
            "[nltk_data]    |   Unzipping help/tagsets.zip.\n",
            "[nltk_data]    | Downloading package snowball_data to\n",
            "[nltk_data]    |     /root/nltk_data...\n",
            "[nltk_data]    | Downloading package bllip_wsj_no_aux to\n",
            "[nltk_data]    |     /root/nltk_data...\n",
            "[nltk_data]    |   Unzipping models/bllip_wsj_no_aux.zip.\n",
            "[nltk_data]    | Downloading package word2vec_sample to\n",
            "[nltk_data]    |     /root/nltk_data...\n",
            "[nltk_data]    |   Unzipping models/word2vec_sample.zip.\n",
            "[nltk_data]    | Downloading package panlex_swadesh to\n",
            "[nltk_data]    |     /root/nltk_data...\n",
            "[nltk_data]    | Downloading package mte_teip5 to /root/nltk_data...\n",
            "[nltk_data]    |   Unzipping corpora/mte_teip5.zip.\n",
            "[nltk_data]    | Downloading package averaged_perceptron_tagger to\n",
            "[nltk_data]    |     /root/nltk_data...\n",
            "[nltk_data]    |   Unzipping taggers/averaged_perceptron_tagger.zip.\n",
            "[nltk_data]    | Downloading package averaged_perceptron_tagger_ru to\n",
            "[nltk_data]    |     /root/nltk_data...\n",
            "[nltk_data]    |   Unzipping\n",
            "[nltk_data]    |       taggers/averaged_perceptron_tagger_ru.zip.\n",
            "[nltk_data]    | Downloading package perluniprops to\n",
            "[nltk_data]    |     /root/nltk_data...\n",
            "[nltk_data]    |   Unzipping misc/perluniprops.zip.\n",
            "[nltk_data]    | Downloading package nonbreaking_prefixes to\n",
            "[nltk_data]    |     /root/nltk_data...\n",
            "[nltk_data]    |   Unzipping corpora/nonbreaking_prefixes.zip.\n",
            "[nltk_data]    | Downloading package vader_lexicon to\n",
            "[nltk_data]    |     /root/nltk_data...\n",
            "[nltk_data]    | Downloading package porter_test to /root/nltk_data...\n",
            "[nltk_data]    |   Unzipping stemmers/porter_test.zip.\n",
            "[nltk_data]    | Downloading package wmt15_eval to /root/nltk_data...\n",
            "[nltk_data]    |   Unzipping models/wmt15_eval.zip.\n",
            "[nltk_data]    | Downloading package mwa_ppdb to /root/nltk_data...\n",
            "[nltk_data]    |   Unzipping misc/mwa_ppdb.zip.\n",
            "[nltk_data]    | \n",
            "[nltk_data]  Done downloading collection all\n"
          ],
          "name": "stdout"
        },
        {
          "output_type": "execute_result",
          "data": {
            "text/plain": [
              "True"
            ]
          },
          "metadata": {
            "tags": []
          },
          "execution_count": 70
        }
      ]
    },
    {
      "cell_type": "code",
      "metadata": {
        "colab": {
          "base_uri": "https://localhost:8080/"
        },
        "id": "LMqzDWkrbPWt",
        "outputId": "5b3d6b95-bf73-4a37-999e-c041eaf9af59"
      },
      "source": [
        "# store data as a panda dataframe \n",
        "\n",
        "import pandas as pd \n",
        "\n",
        "import numpy as np\n",
        "\n",
        "import tensorflow_datasets as tfds\n",
        "import tensorflow as tf\n",
        "\n",
        "#import data as a tfds dataset \n",
        "dataset, info = tfds.load('imdb_reviews', with_info=True,\n",
        "                          as_supervised=True)\n",
        "\n",
        "#convert to a pandas dataframe and split into train and test \n",
        "pd_dataset_train = tfds.as_dataframe(dataset['train'], info)\n",
        "pd_dataset_test = tfds.as_dataframe(dataset['test'], info)\n",
        "\n",
        "#length of training data \n",
        "pd_dataset_train.value_counts()\n"
      ],
      "execution_count": null,
      "outputs": [
        {
          "output_type": "execute_result",
          "data": {
            "text/plain": [
              "label  text                                                                                                                                                                                                                                                                                                                                                                                                                                                                                                                                                                                                                                                                                                                                                                                                                                                                                                                                                                                                                                                                                                                                                                                                                                                                                                                                                                                                                                                                                                                                                                                                                                                                                                                                                                                                                                                                                                                                                                                                                                                                                                                                                                                                                                                                                                                                                                                                                                                                                                                                                                                                                                                                                                                                                                                                                                                                                                                                                                                                                                                                                                                                                                                                                                                                                                                                                                                                                                                                                                                                                                                                                                                                                             \n",
              "0      b\"How has this piece of crap stayed on TV this long? It's terrible. It makes me want to shoot someone. It's so fake that it is actually worse than a 1940s sci-fi movie. I'd rather have a stroke than watch this nonsense. I remember watching it when it first came out. I thought, hey this could be interesting, then I found out how absolutely, insanely, ridiculously stupid it really was. It was so bad that I actually took out my pocket knife and stuck my hand to the table.<br /><br />Please people, stop watching this and all other reality shows, they're the trash that is jamming the networks and canceling quality programming that requires some thought to create.\"                                                                                                                                                                                                                                                                                                                                                                                                                                                                                                                                                                                                                                                                                                                                                                                                                                                                                                                                                                                                                                                                                                                                                                                                                                                                                                                                                                                                                                                                                                                                                                                                                                                                                                                                                                                                                                                                                                                                                                                                                                                                                                                                                                                                                                                                                                                                                                                                                                                                                                                                                                                                                                                                                                                                                                                                                                                                                                                                                                                                          3\n",
              "       b'You do realize that you\\'ve been watching the EXACT SAME SHOW for eight years, right? I could understand the initial curiosity of seeing strangers co-exist on an Island, but you\\'d think that after watching unkempt, stink-ladened heroes run roughshod through the bush with an egg on a spoon for half a decade would be enough to get you to commit to something a little more original (and interesting).<br /><br />And I\\'m not even speaking of the shows validity which for the record I find questionable. It\\'s just hard to suspend disbelief for \"Bushy Bill\" eating a rat when the entire crew of producers and camera people are housed in an air conditioned make-shift bio-dome sipping frosty mochcinno\\'s with moxy.<br /><br />What\\'s the appeal here? I don\\'t care about these people or their meandering lives. I just don\\'t get it. But if you DO find yourself being captivated by hairy, unwashed people, I suggest you turn off your TV and just take a trip to your local bus station where you can see people like this in their TRUE habitat. They call them HOMELESS PEOPLE, and free of charge, you can sit back and marvel in their uncanny ability to retrieve various cigarette debris from a plethora of garbage canisters, eventually striking \"pay-dirt\" and fashioning a homemade Dr. Frankenstein-styled cancer-stick, all the while begging people for change for food when the stink of \"Aqua Velva\" on their breath is enough to suggest otherwise. And the best part? Much like Survivor, every week one member of the tribe \"Leaves\" the \"Island\" when they are unceremoniously sent packing to the local Institution when the frightening unmedicated state of full-blown schizophrenia kicks into gear! Now THAT\\'S ENTERTAINMENT!'                                                                                                                                                                                                                                                                                                                                                                                                                                                                                                                                                                                                                                                                                                                                                                                                                                                                                                                                                                                                                                                                                                                                                                                                                                                                                                                                                                                                                                                                                                                                                                                                                                                                                                                                                                                                                                                                                                             3\n",
              "       b\"This show comes up with interesting locations as fast as the travel channel. It is billed as reality but in actuality it is pure prime time soap opera. It's tries to use exotic locales as a facade to bring people into a phony contest & then proceeds to hook viewers on the contestants soap opera style.<br /><br />It also borrows from an early CBS game show pioneer- Beat The Clock- by inventing situations for its contestants to try & overcome. Then it rewards the winner money. If they can spice it up with a little interaction between the characters, even better. While the game format is in slow motion versus Beat The Clock- the real accomplishment of this series is to escape reality. <br /><br />This show has elements of several types of successful past programs. Reality television, hardly, but if your hooked on the contestants, locale or contest, this is your cup of tea. If your not, this entire series is as I say, drivel dripping with gravy. It is another show hiding behind the reality label which is the trend it started in 2000.<br /><br />It is slick & well produced, so it might last a while yet. After all, so do re-runs of Gilligan's Island, Green Acres, The Beverly Hillbillies & The Brady Bunch. This just doesn't employ professional actors. The intelligence level is about the same.\"                                                                                                                                                                                                                                                                                                                                                                                                                                                                                                                                                                                                                                                                                                                                                                                                                                                                                                                                                                                                                                                                                                                                                                                                                                                                                                                                                                                                                                                                                                                                                                                                                                                                                                                                                                                                                                                                                                                                                                                                                                                                                                                                                                                                                                                                                                                                        3\n",
              "       b\"When i got this movie free from my job, along with three other similar movies.. I watched then with very low expectations. Now this movie isn't bad per se. You get what you pay for. It is a tale of love, betrayal, lies, sex, scandal, everything you want in a movie. Definitely not a Hollywood blockbuster, but for cheap thrills it is not that bad. I would probably never watch this movie again. In a nutshell this is the kind of movie that you would see either very late at night on a local television station that is just wanting to take up some time, or you would see it on a Sunday afternoon on a local television station that is trying to take up some time. Despite the bad acting, clich\\xc3\\xa9 lines, and sub par camera work. I didn't have the desire to turn off the movie and pretend like it never popped into my DVD player. The story has been done many times in many movies. This one is no different, no better, no worse. <br /><br />Just your average movie.\"                                                                                                                                                                                                                                                                                                                                                                                                                                                                                                                                                                                                                                                                                                                                                                                                                                                                                                                                                                                                                                                                                                                                                                                                                                                                                                                                                                                                                                                                                                                                                                                                                                                                                                                                                                                                                                                                                                                                                                                                                                                                                                                                                                                                                                                                                                                                                                                                                                                                                                                                                                                                                                                                                            3\n",
              "       b'Is there any other time period that has been so exhaustively covered by television (or the media in general) as the 1960s? No. And do we really need yet another trip through that turbulent time? Not really. But if we must have one, does it have to be as shallow as \"The \\'60s\"? <br /><br />I like to think that co-writers Bill Couturie and Robert Greenfield had more in mind for this two-part miniseries than what ultimately resulted, especially given Couturie\\'s involvement in the superb HBO movie \"Dear America: Letters Home From Vietnam\" which utilized little original music and no original footage, letting the sights and sounds of the time speak for themselves. This presentation intercuts file footage with the dramatic production, but it doesn\\'t do anyone any favours by trying to do too much in too little time; like so many of its ilk, it\\'s seen from the point of view of one family. But the children of the family seem to be involved tangentially with almost every major event of the \\'60s (it\\'s amazing that one of them doesn\\'t go to the Rolling Stones gig at Altamont), making it seem less like a period drama and more like a Cliff Notes version of the decade.<br /><br />The makers rush through it so much that there\\'s little or no time to give the characters any character, with the stick figures called our protagonists off screen for ages at a time - the children\\'s father is especially clich\\xc3\\xa9d - and then when they\\'re back on BLAMMO! it\\'s something else. Garry Trudeau could teach the filmmakers a thing or two about doing this kind of thing properly. In fairness, Jerry O\\'Connell, Jordana Brewster, Jeremy Sisto, Julia Stiles and Charles S. Dutton give their material the old college try, but they\\'re wasted (especially the latter two); it\\'s undeniably good to see David Alan Grier in a rare straight role as activist Fred Hampton, and Rosanna Arquette (in an uncredited cameo in part 2) is always welcome.<br /><br />What isn\\'t welcome is how \"The \\'60s\" drowns the soundtrack with so many period songs that it ultimately reduces its already minimal effect (and this may well be the only time an American TV presentation about post-60s America never mentions the British Invasion - no Beatles, no Rolling Stones... then again, there\\'s only so much tunes you can shoehorn into a soundtrack album, right?). Capping its surface-skimming approach to both the time and the plot with an almost out-of-place happy ending, \"American Dreams\" and \"The Wonder Years\" did it all much, much better. Nothing to see here you can\\'t see elsewhere, people... except for Julia Stiles doing the twist, that is.'                                                                                                                                                                                                                                                                                                                                                                                                                                                                                                                                                                                                                                                                                                                                                                                                                                                                                                                                                           2\n",
              "                                                                                                                                                                                                                                                                                                                                                                                                                                                                                                                                                                                                                                                                                                                                                                                                                                                                                                                                                                                                                                                                                                                                                                                                                                                                                                                                                                                                                                                                                                                                                                                                                                                                                                                                                                                                                                                                                                                                                                                                                                                                                                                                                                                                                                                                                                                                                                                                                                                                                                                                                                                                                                                                                                                                                                                                                                                                                                                                                                                                                                                                                                                                                                                                                                                                                                                                                                                                                                                                                                                                                                                                                                                                                                           ..\n",
              "1      b\"I just came back from a pre-release viewing of this excellent sci-fi film noire. It's style is definitively unique and very well made. It is filmed with actual actors, but transformed into a black and white comic-strip style you have never seen before. It goes one step further than Sin City, and it does it well. It's a successful combination of french comic and movie cultures. The story and mood remind of Blade Runner, and if you liked that one you will surely like this one, too. The storyline is intelligent, never boring and has some nice little twists. This film is a must-see for any cinephile except perhaps those who absolutely don't like sci-fi or b&w.\"                                                                                                                                                                                                                                                                                                                                                                                                                                                                                                                                                                                                                                                                                                                                                                                                                                                                                                                                                                                                                                                                                                                                                                                                                                                                                                                                                                                                                                                                                                                                                                                                                                                                                                                                                                                                                                                                                                                                                                                                                                                                                                                                                                                                                                                                                                                                                                                                                                                                                                                                                                                                                                                                                                                                                                                                                                                                                                                                                                                                          1\n",
              "       b\"I just came back from the Late-night cinema and it was indeed a silent way out as most of the audience pondered though the real-life black & white images of the partition,the freedom movement,etc which was very much reminiscent of the lives' our forefathers faced! Amidst this backdrop,mind you,there was no tel/fax/internet in those times but for the very voice of Truth & Non-violence, the cinematography infused some spirit of stark reality of adversity amidst the strict Raj.<br /><br />Gandhi shown as a hardworking Attorney in South Africa,who stood for his basic ideologies and gave every degree of conviction to spread awareness of the same with humility and sainthood which to the uttered speech of general Smut was shown as a nice farewell on screen.It had the best drafted speech with a subtle humour & a veiled threat to the British raj in India!There was a nice remark when he said we pray in silence to the British in India now that Gandhi,the politician is set for India(towards sainthood).<br /><br />The very backdrop of a big family with many kids needs the mention of an obvious divided attention and love which had to cast it's spell on the unfortunate kid's psyche who was left alone to aspire for unrealistic ambitions.Little did Harilal knew about his aptitude and he gets emotionally carried away with small pleasures in life and fails in front of the huge idol of his father.He tries to do away from mentor-ship which is the basis of any success which had to be seen by those fortunate neighbours in the streets of Gandhi's residence when Harilal vents out his frustration in open.This means he becomes mentally weak and gets psychologically deranged to an extent that he is forced into religious conversions and alcoholism ,with debt and dis-obedience fuelling his negative thoughts.He still had shown the sincere love for his mother through touchy scenes and even Gandhi's humble expressions form Harilal to forgive him didn't meet any conclusions in his mind as he always feared the Father,Gandhi.<br /><br />he couldn't digest the fact that Gandhi couldn't share his love with him as he expected & was driven to rebellion when he couldn't understand the equal-merit based delivery of scholarship money by his father to his cousin where he saw a failed opportunity to study for barrister in england.<br /><br />This had to take it's toll in him thrown to the streets as a beggar when the whole of India was celebrating the Indepedence!The life of a destitute never changes come what may but the manner in which the sad death of Kasturba & Gandhi himself is shown brings in an emotional silence.Finally the last turbulent thoughts of the dying Harilal is shown as a flashback to keep the audience gripping and wondering where did the father of the nation go wrong? was he clever enough to be mentally strong to lead an-one man army & use his brave soldier-son as a weapon to show to the British & rival forces that when it comes to the interest of the nation,nothing comes in between.Sadly though that to read a Mahatma's heart one has to live outside his family and see which the emotionally naive harilal couldn't see living inside....<br /><br />A pity that such naive harilal's are still ruining the efforts of many Mahatma-like fathers in many families in todays' life and have taken to drugs,alcoholism and God knows what thoughts!!Here's a message to all those brave sainik(soldier)-sons please respect the father of the nation!Please Obey and happiness shall be bestowed or else it's a disaster in waiting,isn't it?\"    1\n",
              "       b\"I just came back from the Montreal premiere of Zero Day...and i'm surprised as hell to find a negative comment on the movie. Basically the blame is about Coccio doing an easy and overplayed social message...well, Mr-I'm-a-reviewer, it's an easy and overplayed critic of movies with a social charge.<br /><br />Not that I want to expose my life here, but I come from a small town with a similar school than these guys go. Reject & ignorance on the menu. Thing is...I understand how can young kids can be driven to do such horror. High schools have became battle fields of conformity. It's a real ugly sight. You need to fight your way into being like the others. It's hard to explain, bit a lot of people dosen't realize that high schools are becoming cemeteries of human intelligence. Meanwhile, parents are closing their eyes and smiling about how their life in their comfortable suburb is perfect.<br /><br />The real motive of the movie isn't about what is driving them. It's about this death-like calm suburb and everybody closing their eyes and trying to create this atmosphere of a perfect town. Cal expressed it well. It's a wake up call. Drama is everywhere and it can take every shape. In that case little dramas(like Andre being called a faggot for wearing a J.C Penny shirt) are shaping into being the worse nightmare of a whole town. Andre & Cal took the most extreme way to express their pain. The malaise of unconformity in an era where you need more than ever to be like the others to be accepted.<br /><br />I like particularly the last scenes where some guys are burning the crosses of Andre & Cal, like if with the pain they communicated, Cal & Andre have communicated their blind rage to their community, their refusal to think about the causes of some acts. <br /><br />It might seemed aggressive as a movie, but Coccio is meditating more than whining or enunciating. What Andre & Cal are living is a reality...and a scary one that might get to other kids. <br /><br />Disturbing movie...Home making and strong feeling made Ben Coccio do a very very disturbing movie.\"                                                                                                                                                                                                                                                                                                                                                                                                                                                                                                                                                                                                                                                                                                                                                                                                                                                                                                                                                                                                                                                                                                                                                                                                                                                                                                                                                                                                                                                                                                                           1\n",
              "       b\"I just can't agree with the above comment - there's lots of interesting and indeed amazing filmic imagery in this one, it has an unusual structure and moves well toward a frightening climactic sequence that is notable for it's effective use of silence. What's more, it explores the odd impulse of suicide in a very frank way, not pulling any punches in what it shows, yet not dwelling and over-sensationalising the subject matter. it has hints of documentary about it as well as horror and art-house cinema, and deserves a place amongst the canon of 'different' horror films like The Blair Witch Project and the original Ring (both of which it predates and could well be an unacknowledged influence on). It's definitely worth seeing if you're interested in the edges of horror cinema.\"                                                                                                                                                                                                                                                                                                                                                                                                                                                                                                                                                                                                                                                                                                                                                                                                                                                                                                                                                                                                                                                                                                                                                                                                                                                                                                                                                                                                                                                                                                                                                                                                                                                                                                                                                                                                                                                                                                                                                                                                                                                                                                                                                                                                                                                                                                                                                                                                                                                                                                                                                                                                                                                                                                                                                                                                                                                                                  1\n",
              "0      b'!!!! POSSIBLE MILD SPOILER !!!!!<br /><br />As I watched the first half of GUILTY AS SIN I couldn`t believe it was made in 1993 because it played like a JAGGED EDGE / Joe Eszterhas clone from the mid 80s . It starts with a murder and it`s left for the audience to muse \" Is he guilty or innocent and will he go to bed with his attorney ? \" , but halfway through the film shows its early 90s credentials by turning into a \" Lawyer gets manipulated and stalked by her client \" type film which ends in a ridiculous manner , and GUILTY AS SIN has an even more ridiculous ending in this respect .<br /><br />This is a very poor thriller but the most unforgivable thing about it is that it was directed by Sidney Lumet the same man who brought us the all time classic court room drama 12 ANGRY MEN'                                                                                                                                                                                                                                                                                                                                                                                                                                                                                                                                                                                                                                                                                                                                                                                                                                                                                                                                                                                                                                                                                                                                                                                                                                                                                                                                                                                                                                                                                                                                                                                                                                                                                                                                                                                                                                                                                                                                                                                                                                                                                                                                                                                                                                                                                                                                                                                                                                                                                                                                                                                                                                                                                                                                                                                                                                                                           1\n",
              "Length: 24904, dtype: int64"
            ]
          },
          "metadata": {
            "tags": []
          },
          "execution_count": 71
        }
      ]
    },
    {
      "cell_type": "code",
      "metadata": {
        "colab": {
          "base_uri": "https://localhost:8080/"
        },
        "id": "AfCmQCUafBa8",
        "outputId": "200795cd-725a-4343-b2aa-f66e84078ea1"
      },
      "source": [
        "#take a look at the first few rows for training data \n",
        "pd_dataset_train.head\n"
      ],
      "execution_count": null,
      "outputs": [
        {
          "output_type": "execute_result",
          "data": {
            "text/plain": [
              "<bound method NDFrame.head of        label                                               text\n",
              "0          0  b\"This was an absolutely terrible movie. Don't...\n",
              "1          0  b'I have been known to fall asleep during film...\n",
              "2          0  b'Mann photographs the Alberta Rocky Mountains...\n",
              "3          1  b'This is the kind of film for a snowy Sunday ...\n",
              "4          1  b'As others have mentioned, all the women that...\n",
              "...      ...                                                ...\n",
              "24995      0  b'I have a severe problem with this show, seve...\n",
              "24996      1  b'The year is 1964. Ernesto \"Che\" Guevara, hav...\n",
              "24997      0  b'Okay. So I just got back. Before I start my ...\n",
              "24998      0  b'When I saw this trailer on TV I was surprise...\n",
              "24999      1  b'First of all, Riget is wonderful. Good comed...\n",
              "\n",
              "[25000 rows x 2 columns]>"
            ]
          },
          "metadata": {
            "tags": []
          },
          "execution_count": 72
        }
      ]
    },
    {
      "cell_type": "code",
      "metadata": {
        "id": "CJwestzjbuj6"
      },
      "source": [
        "#make sure that tweets are stored as type string \n",
        "pd_dataset_train['text'] = pd_dataset_train['text'].astype(str)"
      ],
      "execution_count": null,
      "outputs": []
    },
    {
      "cell_type": "code",
      "metadata": {
        "colab": {
          "base_uri": "https://localhost:8080/"
        },
        "id": "ETkF131YbxUE",
        "outputId": "f7027a42-caae-4403-bdb0-7f3014086d22"
      },
      "source": [
        "pd_dataset_train.info()"
      ],
      "execution_count": null,
      "outputs": [
        {
          "output_type": "stream",
          "text": [
            "<class 'tensorflow_datasets.core.as_dataframe.StyledDataFrame'>\n",
            "RangeIndex: 25000 entries, 0 to 24999\n",
            "Data columns (total 2 columns):\n",
            " #   Column  Non-Null Count  Dtype \n",
            "---  ------  --------------  ----- \n",
            " 0   label   25000 non-null  int64 \n",
            " 1   text    25000 non-null  object\n",
            "dtypes: int64(1), object(1)\n",
            "memory usage: 390.8+ KB\n"
          ],
          "name": "stdout"
        }
      ]
    },
    {
      "cell_type": "code",
      "metadata": {
        "id": "BNnadAB5h72d"
      },
      "source": [
        "# develop a custom tokeniser \n",
        "\n",
        "from nltk.stem.wordnet import WordNetLemmatizer\n",
        "from nltk.corpus import stopwords\n",
        "from nltk.tokenize import sent_tokenize, word_tokenize\n",
        "import string\n",
        "\n",
        "stop_words = set(stopwords.words('english'))\n",
        "table = str.maketrans('', '', string.punctuation)\n",
        "l = WordNetLemmatizer() \n",
        "\n",
        "# this tokenizer cleans the data \n",
        "\n",
        "def clean(v):\n",
        "    tokens = word_tokenize(v) #tokenize\n",
        "    lower_case = [i.lower() for i in tokens] #make letters lowercase\n",
        "    strip = [i.translate(table) for i in lower_case] # remove punctuations \n",
        "    words = [i for i in strip if i.isalpha()] #remove non alphabetic terms\n",
        "    main_words = [i for i in words if not i in stop_words] #remove stop words\n",
        "    final_words = [l.lemmatize(i) for i in main_words] # lemmatize the words\n",
        "    return (final_words)"
      ],
      "execution_count": null,
      "outputs": []
    },
    {
      "cell_type": "code",
      "metadata": {
        "id": "anVGOSZEmKBL"
      },
      "source": [
        "from sklearn.feature_extraction.text import CountVectorizer\n",
        "\n",
        "# convert the reviews into sparse vectors \n",
        "vectoriser = CountVectorizer(tokenizer= clean)\n",
        "Count_train = vectoriser.fit_transform(pd_dataset_train.text)\n",
        "Count_test = vectoriser.transform(pd_dataset_test.text)"
      ],
      "execution_count": null,
      "outputs": []
    },
    {
      "cell_type": "code",
      "metadata": {
        "id": "4RR8Lu5Qm9y5"
      },
      "source": [
        "# collect the training and test labels seperately \n",
        "train_label = pd_dataset_train.label\n",
        "train_text = Count_train\n",
        "\n",
        "test_label = pd_dataset_test.label\n",
        "test_text = Count_test"
      ],
      "execution_count": null,
      "outputs": []
    },
    {
      "cell_type": "code",
      "metadata": {
        "colab": {
          "base_uri": "https://localhost:8080/"
        },
        "id": "4OVKpb05rVXP",
        "outputId": "cdc53ffa-2d74-4fec-9755-b40246f6a69f"
      },
      "source": [
        "#25000 test size \n",
        "test_label.shape"
      ],
      "execution_count": null,
      "outputs": [
        {
          "output_type": "execute_result",
          "data": {
            "text/plain": [
              "(25000,)"
            ]
          },
          "metadata": {
            "tags": []
          },
          "execution_count": 78
        }
      ]
    },
    {
      "cell_type": "code",
      "metadata": {
        "colab": {
          "base_uri": "https://localhost:8080/"
        },
        "id": "YFRzYRvQpnGE",
        "outputId": "dc9642de-b730-4eb3-daba-ecc9b9f417d9"
      },
      "source": [
        "#evaluating the multinomial naive bayes model\n",
        "\n",
        "from sklearn.naive_bayes import MultinomialNB\n",
        "from sklearn import metrics \n",
        "\n",
        "model1 = MultinomialNB()\n",
        "model1.fit(train_text, train_label)\n",
        "\n",
        "test = model1.predict(test_text)\n",
        "accuracy = metrics.accuracy_score(test, test_label)\n",
        "\n",
        "print(\"Multinomial Naive Bayes test accuaracy: \", accuracy)\n"
      ],
      "execution_count": null,
      "outputs": [
        {
          "output_type": "stream",
          "text": [
            "Multinomial Naive Bayes test accuaracy:  0.8226\n"
          ],
          "name": "stdout"
        }
      ]
    },
    {
      "cell_type": "markdown",
      "metadata": {
        "id": "EKBj6omr4wUq"
      },
      "source": [
        "# LSTM"
      ]
    },
    {
      "cell_type": "code",
      "metadata": {
        "id": "j9c7DyNQ4wuO"
      },
      "source": [
        "#import the required libraries \n",
        "\n",
        "import tensorflow as tf\n",
        "import tensorflow_datasets as tfds\n",
        "from tensorflow.data import AUTOTUNE\n",
        "from tensorflow.keras.layers.experimental.preprocessing import TextVectorization\n",
        "import numpy as np\n"
      ],
      "execution_count": null,
      "outputs": []
    },
    {
      "cell_type": "code",
      "metadata": {
        "id": "zDulcuiu43za"
      },
      "source": [
        "#load data as a tensorflow dataset \n",
        "data = tfds.load('imdb_reviews',\n",
        "                  as_supervised=True)\n"
      ],
      "execution_count": null,
      "outputs": []
    },
    {
      "cell_type": "code",
      "metadata": {
        "id": "mcofEuEXshex"
      },
      "source": [
        "#create validation dataset\n",
        "train_data = data['train']\n",
        "val_data = data[\"test\"].take(10000) \n",
        "test_data = data[\"test\"].skip(10000)"
      ],
      "execution_count": null,
      "outputs": []
    },
    {
      "cell_type": "code",
      "metadata": {
        "id": "7n6y_0-q48VF"
      },
      "source": [
        "#divide into train and test \n",
        "#shuffle both data sets \n",
        "#batch the datasets \n",
        "#prefetch data to improve latency \n",
        "\n",
        "train_data = train_data.shuffle(25000).batch(30).prefetch(AUTOTUNE)\n",
        "val_data = val_data.shuffle(25000).batch(30).prefetch(AUTOTUNE)\n",
        "test_data = test_data.shuffle(25000).batch(30).prefetch(AUTOTUNE)"
      ],
      "execution_count": null,
      "outputs": []
    },
    {
      "cell_type": "code",
      "metadata": {
        "id": "472hWcVJ5C0p"
      },
      "source": [
        "#tokenize the raw text using a text vectorization\n",
        "# preprocessing removes punctuation, makes letters lowercase,\n",
        "#constrains output length to 400, creates a vocabulary of \n",
        "#upto 3000 unique words\n",
        "#outputs integer word indices\n",
        "\n",
        "vector_layer = TextVectorization(standardize = \"lower_and_strip_punctuation\",\n",
        "                                 max_tokens= 3000,\n",
        "                                 pad_to_max_tokens=True,\n",
        "                                 output_mode = \"int\",\n",
        "                                 output_sequence_length = 400   \n",
        "                                 )\n",
        "\n",
        "#create vocaulary based on training data text\n",
        "vector_layer.adapt(train_data.map(lambda x, y: x ))\n",
        "\n",
        "#preprocess the data using text vectorization \n",
        "train_data = train_data.map(lambda x, y: (vector_layer(x), y))\n",
        "test_data = test_data.map(lambda x, y : (vector_layer(x), y))\n",
        "val_data = val_data.map(lambda x, y : (vector_layer(x), y))"
      ],
      "execution_count": null,
      "outputs": []
    },
    {
      "cell_type": "code",
      "metadata": {
        "id": "q5MWarUZ5Q5A"
      },
      "source": [
        "from tensorflow.keras.layers import Embedding\n",
        "from tensorflow.keras.layers import Bidirectional\n",
        "from tensorflow.keras.layers import LSTM\n",
        "from tensorflow.keras.layers import Dense\n",
        "\n",
        "# specify model architecture \n",
        "lstm_model = tf.keras.Sequential()\n",
        "\n",
        "#turn indices into dense vectors\n",
        "#takes preprocessed dataset as input\n",
        "lstm_model.add(Embedding(\n",
        "                input_dim= 3000, #size of vocab \n",
        "                output_dim=128,\n",
        "                mask_zero=True,\n",
        "                input_length = 400, #output of vector layer\n",
        "                name = \"Embeding\"))\n",
        "\n",
        "#first LSTM layer\n",
        "lstm_model.add(Bidirectional(LSTM(128,\n",
        "                                  dropout=0.2,\n",
        "                                  kernel_regularizer = 'l1_l2', \n",
        "                                  return_sequences=True,\n",
        "                                  name = \"LSTM\"))) \n",
        "#second LSTM layer\n",
        "lstm_model.add(Bidirectional(LSTM(64,\n",
        "                                  dropout=0.2,\n",
        "                                  kernel_regularizer = 'l1_l2',                                              \n",
        "                                  name = \"LSTM\"))) \n",
        "#dense layer \n",
        "lstm_model.add(Dense(128, activation='relu',\n",
        "                     kernel_regularizer = 'l2',                          \n",
        "                     name = \"Dense\"))\n",
        "\n",
        "#final classification layer with softmax activation\n",
        "lstm_model.add(Dense(1,activation= \"sigmoid\",\n",
        "                     name = \"Classifier\")) \n"
      ],
      "execution_count": null,
      "outputs": []
    },
    {
      "cell_type": "code",
      "metadata": {
        "id": "oHVvULcXNXjY",
        "colab": {
          "base_uri": "https://localhost:8080/"
        },
        "outputId": "98f38637-2001-4fe8-e1e3-fbf585418a85"
      },
      "source": [
        "#print model summary\n",
        "print(lstm_model.summary())"
      ],
      "execution_count": null,
      "outputs": [
        {
          "output_type": "stream",
          "text": [
            "Model: \"sequential_1\"\n",
            "_________________________________________________________________\n",
            "Layer (type)                 Output Shape              Param #   \n",
            "=================================================================\n",
            "Embeding (Embedding)         (None, 400, 128)          384128    \n",
            "_________________________________________________________________\n",
            "bidirectional_2 (Bidirection (None, 400, 256)          263168    \n",
            "_________________________________________________________________\n",
            "bidirectional_3 (Bidirection (None, 128)               164352    \n",
            "_________________________________________________________________\n",
            "Dense (Dense)                (None, 128)               16512     \n",
            "_________________________________________________________________\n",
            "Classifier (Dense)           (None, 1)                 129       \n",
            "=================================================================\n",
            "Total params: 828,289\n",
            "Trainable params: 828,289\n",
            "Non-trainable params: 0\n",
            "_________________________________________________________________\n",
            "None\n"
          ],
          "name": "stdout"
        }
      ]
    },
    {
      "cell_type": "code",
      "metadata": {
        "colab": {
          "base_uri": "https://localhost:8080/",
          "height": 585
        },
        "id": "SyDG8LLUwmFW",
        "outputId": "848f423d-8f75-4753-8aaa-e523a8e74055"
      },
      "source": [
        "# LSTM visualisation\n",
        "from tensorflow.keras.utils import plot_model\n",
        "plot_model(lstm_model)"
      ],
      "execution_count": null,
      "outputs": [
        {
          "output_type": "execute_result",
          "data": {
            "image/png": "[encoded data removed]",
            "text/plain": [
              "<IPython.core.display.Image object>"
            ]
          },
          "metadata": {
            "tags": []
          },
          "execution_count": 18
        }
      ]
    },
    {
      "cell_type": "code",
      "metadata": {
        "id": "tXOPYrLq5wTq"
      },
      "source": [
        "#compile the model \n",
        "\n",
        "from tensorflow.keras import optimizers\n",
        "from tensorflow.keras.losses import BinaryCrossentropy\n",
        "from tensorflow.keras.metrics import BinaryAccuracy\n",
        "\n",
        "\n",
        "opt = tf.keras.optimizers.Adam(learning_rate=1e-4)\n",
        "\n",
        "loss_func = BinaryCrossentropy(from_logits=True)\n",
        "\n",
        "metric = BinaryAccuracy()\n",
        "\n",
        "lstm_model.compile(loss= loss_func,\n",
        "                   optimizer= opt,\n",
        "                   metrics= metric)"
      ],
      "execution_count": null,
      "outputs": []
    },
    {
      "cell_type": "code",
      "metadata": {
        "colab": {
          "base_uri": "https://localhost:8080/"
        },
        "id": "fA43XnTG5yVG",
        "outputId": "bcbab2d9-c582-43cc-934c-2b27447e806d"
      },
      "source": [
        "#fit the model\n",
        "\n",
        "epoch = 10\n",
        "steps_per_epoch = 70\n",
        "batch_size = 250\n",
        "val_steps = 50\n",
        "\n",
        "lstm_history = lstm_model.fit(train_data,\n",
        "                              epochs= epoch,\n",
        "                              validation_data = val_data,\n",
        "                              #validation_steps= val_steps,\n",
        "                              steps_per_epoch = steps_per_epoch,\n",
        "                              shuffle = True,\n",
        "                              batch_size = batch_size\n",
        "                              )"
      ],
      "execution_count": null,
      "outputs": [
        {
          "output_type": "stream",
          "text": [
            "Epoch 1/10\n",
            "70/70 [==============================] - 154s 2s/step - loss: 79.2707 - binary_accuracy: 0.4907 - val_loss: 71.2653 - val_binary_accuracy: 0.4947\n",
            "Epoch 2/10\n",
            "70/70 [==============================] - 135s 2s/step - loss: 68.7477 - binary_accuracy: 0.5343 - val_loss: 61.4418 - val_binary_accuracy: 0.5089\n",
            "Epoch 3/10\n",
            "70/70 [==============================] - 141s 2s/step - loss: 59.1492 - binary_accuracy: 0.5596 - val_loss: 52.5028 - val_binary_accuracy: 0.5789\n",
            "Epoch 4/10\n",
            "70/70 [==============================] - 138s 2s/step - loss: 50.4212 - binary_accuracy: 0.5983 - val_loss: 44.3966 - val_binary_accuracy: 0.5913\n",
            "Epoch 5/10\n",
            "70/70 [==============================] - 134s 2s/step - loss: 42.5122 - binary_accuracy: 0.6120 - val_loss: 37.1129 - val_binary_accuracy: 0.5816\n",
            "Epoch 6/10\n",
            "70/70 [==============================] - 135s 2s/step - loss: 35.4353 - binary_accuracy: 0.5656 - val_loss: 30.5784 - val_binary_accuracy: 0.6367\n",
            "Epoch 7/10\n",
            "70/70 [==============================] - 135s 2s/step - loss: 29.0885 - binary_accuracy: 0.6421 - val_loss: 24.7677 - val_binary_accuracy: 0.6765\n",
            "Epoch 8/10\n",
            "70/70 [==============================] - 135s 2s/step - loss: 23.4221 - binary_accuracy: 0.7351 - val_loss: 19.5845 - val_binary_accuracy: 0.7894\n",
            "Epoch 9/10\n",
            "70/70 [==============================] - 136s 2s/step - loss: 18.4663 - binary_accuracy: 0.7671 - val_loss: 15.1766 - val_binary_accuracy: 0.7996\n",
            "Epoch 10/10\n",
            "70/70 [==============================] - 135s 2s/step - loss: 14.2228 - binary_accuracy: 0.7812 - val_loss: 11.4346 - val_binary_accuracy: 0.7893\n"
          ],
          "name": "stdout"
        }
      ]
    },
    {
      "cell_type": "code",
      "metadata": {
        "id": "Gg3qmn6T62f-",
        "colab": {
          "base_uri": "https://localhost:8080/"
        },
        "outputId": "2f33fb8c-0089-436a-d128-69b3302d009f"
      },
      "source": [
        "#test loss and accuracy\n",
        "lstm_test_loss, lstm_test_acc = lstm_model.evaluate(test_data)\n"
      ],
      "execution_count": null,
      "outputs": [
        {
          "output_type": "stream",
          "text": [
            "500/500 [==============================] - 99s 197ms/step - loss: 11.4256 - binary_accuracy: 0.7947\n"
          ],
          "name": "stdout"
        }
      ]
    },
    {
      "cell_type": "code",
      "metadata": {
        "id": "x9JAwgwLKJdl",
        "colab": {
          "base_uri": "https://localhost:8080/",
          "height": 642
        },
        "outputId": "d0a9202d-b451-4220-8fd2-5bee93a9e7b1"
      },
      "source": [
        "from matplotlib import pyplot as plt\n",
        "\n",
        "print('LSTM Test Loss:', lstm_test_loss)\n",
        "print('LSTM Test Accuracy:', lstm_test_acc)\n",
        "\n",
        "#plot loss and accuracy\n",
        "\n",
        "plt.title('Bidirectional LSTM Loss ')\n",
        "plt.plot(lstm_history.history['loss'], color='blue', label='train')\n",
        "plt.plot(lstm_history.history['val_loss'], color='orange', label='validation')\n",
        "plt.legend(['Train', 'Validation'])\n",
        "plt.xlabel(\"Epoch\")\n",
        "plt.ylabel(\"Loss\")\n",
        "plt.show()\n",
        "plt.clf()\n",
        "\n",
        "plt.title('Bidirectional LSTM Accuracy ')\n",
        "plt.plot(lstm_history.history['binary_accuracy'], color='blue', label='train')\n",
        "plt.plot(lstm_history.history['val_binary_accuracy'], color='orange', label='validation')\n",
        "plt.legend(['Train', 'Validation'])\n",
        "plt.xlabel(\"Epoch\")\n",
        "plt.ylabel(\"Accuracy\")\n",
        "plt.show()\n",
        "plt.clf()\n"
      ],
      "execution_count": null,
      "outputs": [
        {
          "output_type": "stream",
          "text": [
            "LSTM Test Loss: 11.425619125366211\n",
            "LSTM Test Accuracy: 0.7946666479110718\n"
          ],
          "name": "stdout"
        },
        {
          "output_type": "display_data",
          "data": {
            "image/png": "[encoded data removed]",
            "text/plain": [
              "<Figure size 432x288 with 1 Axes>"
            ]
          },
          "metadata": {
            "tags": [],
            "needs_background": "light"
          }
        },
        {
          "output_type": "display_data",
          "data": {
            "image/png": "[encoded data removed]",
            "text/plain": [
              "<Figure size 432x288 with 1 Axes>"
            ]
          },
          "metadata": {
            "tags": [],
            "needs_background": "light"
          }
        },
        {
          "output_type": "display_data",
          "data": {
            "text/plain": [
              "<Figure size 432x288 with 0 Axes>"
            ]
          },
          "metadata": {
            "tags": []
          }
        }
      ]
    },
    {
      "cell_type": "markdown",
      "metadata": {
        "id": "cSESLOezNgQs"
      },
      "source": [
        "# Load and Preprocess Data\n"
      ]
    },
    {
      "cell_type": "code",
      "metadata": {
        "id": "aEXFrb1n2Q_7"
      },
      "source": [
        "# this data preprocessing is valid for ALBERT, BERT Expert,\n",
        "# and ELECTRA\n",
        "!pip install -q tf-models-official\n",
        "!pip install -q tensorflow-text\n"
      ],
      "execution_count": null,
      "outputs": []
    },
    {
      "cell_type": "code",
      "metadata": {
        "id": "pHYzysIJ2XPt"
      },
      "source": [
        "import os\n",
        "import shutil\n",
        "import tensorflow_hub as hub\n",
        "import tensorflow_text \n",
        "import tensorflow as tf\n",
        "  "
      ],
      "execution_count": null,
      "outputs": []
    },
    {
      "cell_type": "code",
      "metadata": {
        "id": "qJRoMkgEmiI3"
      },
      "source": [
        "#load the data into a directory\n",
        "\n",
        "file_url = \"https://ai.stanford.edu/%7Eamaas/data/sentiment/aclImdb_v1.tar.gz\"\n",
        "\n",
        "review_data = tf.keras.utils.get_file('aclImdb_v1.tar.gz', file_url,\n",
        "                                  untar=True, cache_dir='.',\n",
        "                                  cache_subdir='')\n",
        "\n",
        "review_dataset = os.path.join(os.path.dirname(review_data), 'aclImdb')\n",
        "\n",
        "train_dataset = os.path.join(review_dataset, 'train')\n",
        "\n",
        "remove_data = os.path.join(train_dataset, 'unsup')\n",
        "shutil.rmtree(remove_data)\n"
      ],
      "execution_count": null,
      "outputs": []
    },
    {
      "cell_type": "code",
      "metadata": {
        "colab": {
          "base_uri": "https://localhost:8080/"
        },
        "id": "eudqkvPP2oPM",
        "outputId": "5516f223-d160-4eed-da54-522b78b87257"
      },
      "source": [
        "# split into training, testing and validation datasets \n",
        "seed = 10\n",
        "\n",
        "train_data = tf.keras.preprocessing.text_dataset_from_directory(\n",
        "    'aclImdb/train',\n",
        "    class_names = [\"neg\", 'pos'],\n",
        "    )\n",
        "\n",
        "val_data = tf.keras.preprocessing.text_dataset_from_directory(\n",
        "    'aclImdb/test',\n",
        "    validation_split=0.4,\n",
        "    subset='validation',\n",
        "    class_names = [\"neg\", 'pos'],\n",
        "    seed=seed)\n",
        "\n",
        "\n",
        "test_data = tf.keras.preprocessing.text_dataset_from_directory(\n",
        "    'aclImdb/test',\n",
        "    class_names = [\"neg\", 'pos'],\n",
        "    validation_split=0.4,\n",
        "    subset='training',\n",
        "    seed=seed)\n",
        "\n",
        "#cache and prefetch to improve latency\n",
        "train_data = train_data.cache().prefetch(tf.data.AUTOTUNE)\n",
        "val_data = val_data.cache().prefetch(tf.data.AUTOTUNE)\n",
        "test_data = test_data.cache().prefetch(tf.data.AUTOTUNE)\n"
      ],
      "execution_count": null,
      "outputs": [
        {
          "output_type": "stream",
          "text": [
            "Found 25000 files belonging to 2 classes.\n",
            "Found 25000 files belonging to 2 classes.\n",
            "Using 10000 files for validation.\n",
            "Found 25000 files belonging to 2 classes.\n",
            "Using 15000 files for training.\n"
          ],
          "name": "stdout"
        }
      ]
    },
    {
      "cell_type": "code",
      "metadata": {
        "colab": {
          "base_uri": "https://localhost:8080/"
        },
        "id": "E95OLDSZb1Wj",
        "outputId": "16252a9d-ce4c-4f47-ac0a-8591cd6e8acf"
      },
      "source": [
        "#look at some tweets from the training data \n",
        "for x,y in train_data.take(5): \n",
        "  print(f\"review: {x[1]}\")\n",
        "  print(f\"category: {y[1]}\")"
      ],
      "execution_count": null,
      "outputs": [
        {
          "output_type": "stream",
          "text": [
            "review: b\"well done giving the perspective of the other side fraulein doktor captures both the cost and the futility of war. excellent acting especially when german high command refuses in the name of chivalry to present medal kaiser ordered struck. the scenes of carnage are probably too intense for effete US minds who'd probably prefer some silly speeches and senseless abstractions like 14 points or the league of nations. real americans might appreciate the story line and the action. for all the action and intrigue, fraulein doktor compares favo(u)rably to Jacob's Ladder.\"\n",
            "category: 1\n",
            "review: b'To sat how awful The Shield is, you\\'d have to write pages and pages, so suffice it to say that it is a monument to bad directing.<br /><br />\"When Directors Go Awry\" should have been the title of this production. Indeed, directors are supposed to infuse their work with a sense of visual style and story-telling that propels the story forward.<br /><br />How is constantly shaking the camera and playing with the zoom lens a \"style\"? How is it propelling the story forward? Of course there\\'s also the \"editing by random numbers\" nonsense. Apparently it\\'s become hip to just cut randomly.<br /><br />I guess it\\'s too much work to do good editing.<br /><br />Well, that made it too much work for most people to watch The Shield which languished as one of the most over-hyped and unwatched shows of all time.'\n",
            "category: 0\n",
            "review: b\"Got to be one of the best political satires I have seen to date, with an excellent performance for Cusak, Tomei, and all the supporting actors.<br /><br />Excellent plot, very well-placed and a very good unexpected twist at the end. The action scenes were well filmed & choreographed. Very funny.<br /><br />All in all I give this film a big thumbs up. It's extremely critical of US military intervention in the middle-east, and as such, it may receive bad reviews from people who don't share the same political view, or those who are simply too politically ignorant to appreciate the dark and drk humour. Indeed, at places, the comedy was so close to the truth that it was borderline between funny and tragic.\"\n",
            "category: 1\n",
            "review: b\"A sophisticated contemporary fable about the stresses that work to loosen and ultimately unbind the vows of marriage. The main thrust of the narrative arises from a 'homily' spoken by a country priest following the wedding vows of a young cosmopolitan couple from Milan. In it, the future course of the marriage is spelled out, which bit by bit frays from the stresses of modern life. The 'moral' of this story within a story is that in order for a marriage to work out, both now, and in the past, it has been necessary for that relationship to be abutted by family and friends. This film was a relative blockbuster by domestic Italian standards. It's a terrible shame that this film is not available in either DVD or VHS.\"\n",
            "category: 1\n",
            "review: b\"In this sequel to the 1989 action-comedy classic K-9, detective Dooley [James Belushi] and his dog Jerry Lee return to fight crime, but this time they are teamed up with another detective [Christine Tucci] and her partner, a mean Doberman named Zues who does not get along with Jerry Lee very well. Dooley does not get along with his new partner much either. That all changes as the movie goes along. The movie is intense as their is a guy that really wants to kill Dooley for the way he treated him in the past. There is some dramatic scenes dealing with the death of Dooley's wife that don't really seem to be with the tone of the movie because the rest of the movie is action sequences, dog poop jokes, fart jokes, and jokes about dogs biting bad guys in a certain area. I know that that seems like very low humor, but some of it is actually very funny. I didn't see this movie for the jokes, I saw it for two reasons. The first reason is because I am a big James Belushi fan and the second is for the action sequences. James Belushi is funnier than he was in K-9 and the action sequences at are better too. It would have been nice to see more characters from K-9 to return, but it's still a fun movie. If you are a James Belushi fan, you'll love this movie.\"\n",
            "category: 1\n"
          ],
          "name": "stdout"
        }
      ]
    },
    {
      "cell_type": "code",
      "metadata": {
        "id": "ayrCILWK-Wpp"
      },
      "source": [
        "from tensorflow.keras.layers import Input, Dropout, Dense\n",
        "from tensorflow.keras import optimizers\n",
        "from tensorflow.keras.utils import plot_model\n",
        "\n",
        "# function to build b bert model \n",
        "\n",
        "def bert_model(model_url, preprocessor_url):\n",
        "  embedings = Input(shape=(), dtype=tf.string) #text input\n",
        "  vectorization_layer = hub.KerasLayer(preprocessor_url) #preprocessor\n",
        "  vectorized_tokens = vectorization_layer(embedings) #tokenize and vectorize \n",
        "  bert_model = hub.KerasLayer(model_url, trainable=True) #load model\n",
        "  model_output = bert_model(vectorized_tokens) #apply model to vectorized tweets\n",
        "  pooled_output = model_output['pooled_output'] #collect pooled output \n",
        "  output = Dropout(0.2)(pooled_output) #dropout layer\n",
        "  output = Dense(64, activation= \"relu\",\n",
        "                 kernel_regularizer = \"l1_l2\")(output) #dense layer\n",
        "  output = Dropout(0.2)(output) #dropout layer\n",
        "  output = Dense(1, activation= \"sigmoid\")(output) #classification layer\n",
        "  return tf.keras.Model(embedings, output) #return the model \n",
        "\n"
      ],
      "execution_count": null,
      "outputs": []
    },
    {
      "cell_type": "code",
      "metadata": {
        "colab": {
          "base_uri": "https://localhost:8080/"
        },
        "id": "kjOQyWYveJDw",
        "outputId": "693bc6f4-1a3d-4887-fa8e-63fff281a2fc"
      },
      "source": [
        "#trsting that the function works \n",
        "\n",
        "test_model = bert_model(\"https://tfhub.dev/tensorflow/albert_en_base/3\",\n",
        "                        \"http://tfhub.dev/tensorflow/albert_en_preprocess/3\")\n",
        "#print test model summary \n",
        "test_model.summary()\n",
        "\n"
      ],
      "execution_count": null,
      "outputs": [
        {
          "output_type": "stream",
          "text": [
            "WARNING:tensorflow:10 out of the last 10 calls to <function recreate_function.<locals>.restored_function_body at 0x7fbf1c4e9b00> triggered tf.function retracing. Tracing is expensive and the excessive number of tracings could be due to (1) creating @tf.function repeatedly in a loop, (2) passing tensors with different shapes, (3) passing Python objects instead of tensors. For (1), please define your @tf.function outside of the loop. For (2), @tf.function has experimental_relax_shapes=True option that relaxes argument shapes that can avoid unnecessary retracing. For (3), please refer to https://www.tensorflow.org/guide/function#controlling_retracing and https://www.tensorflow.org/api_docs/python/tf/function for  more details.\n"
          ],
          "name": "stdout"
        },
        {
          "output_type": "stream",
          "text": [
            "WARNING:tensorflow:10 out of the last 10 calls to <function recreate_function.<locals>.restored_function_body at 0x7fbf1c4e9b00> triggered tf.function retracing. Tracing is expensive and the excessive number of tracings could be due to (1) creating @tf.function repeatedly in a loop, (2) passing tensors with different shapes, (3) passing Python objects instead of tensors. For (1), please define your @tf.function outside of the loop. For (2), @tf.function has experimental_relax_shapes=True option that relaxes argument shapes that can avoid unnecessary retracing. For (3), please refer to https://www.tensorflow.org/guide/function#controlling_retracing and https://www.tensorflow.org/api_docs/python/tf/function for  more details.\n"
          ],
          "name": "stderr"
        },
        {
          "output_type": "stream",
          "text": [
            "WARNING:tensorflow:11 out of the last 11 calls to <function recreate_function.<locals>.restored_function_body at 0x7fbf1c4e4200> triggered tf.function retracing. Tracing is expensive and the excessive number of tracings could be due to (1) creating @tf.function repeatedly in a loop, (2) passing tensors with different shapes, (3) passing Python objects instead of tensors. For (1), please define your @tf.function outside of the loop. For (2), @tf.function has experimental_relax_shapes=True option that relaxes argument shapes that can avoid unnecessary retracing. For (3), please refer to https://www.tensorflow.org/guide/function#controlling_retracing and https://www.tensorflow.org/api_docs/python/tf/function for  more details.\n"
          ],
          "name": "stdout"
        },
        {
          "output_type": "stream",
          "text": [
            "WARNING:tensorflow:11 out of the last 11 calls to <function recreate_function.<locals>.restored_function_body at 0x7fbf1c4e4200> triggered tf.function retracing. Tracing is expensive and the excessive number of tracings could be due to (1) creating @tf.function repeatedly in a loop, (2) passing tensors with different shapes, (3) passing Python objects instead of tensors. For (1), please define your @tf.function outside of the loop. For (2), @tf.function has experimental_relax_shapes=True option that relaxes argument shapes that can avoid unnecessary retracing. For (3), please refer to https://www.tensorflow.org/guide/function#controlling_retracing and https://www.tensorflow.org/api_docs/python/tf/function for  more details.\n"
          ],
          "name": "stderr"
        },
        {
          "output_type": "stream",
          "text": [
            "Model: \"model_4\"\n",
            "__________________________________________________________________________________________________\n",
            "Layer (type)                    Output Shape         Param #     Connected to                     \n",
            "==================================================================================================\n",
            "input_5 (InputLayer)            [(None,)]            0                                            \n",
            "__________________________________________________________________________________________________\n",
            "keras_layer_8 (KerasLayer)      {'input_word_ids': ( 0           input_5[0][0]                    \n",
            "__________________________________________________________________________________________________\n",
            "keras_layer_9 (KerasLayer)      {'sequence_output':  11683584    keras_layer_8[0][0]              \n",
            "                                                                 keras_layer_8[0][1]              \n",
            "                                                                 keras_layer_8[0][2]              \n",
            "__________________________________________________________________________________________________\n",
            "dropout_8 (Dropout)             (None, 768)          0           keras_layer_9[0][13]             \n",
            "__________________________________________________________________________________________________\n",
            "dense_8 (Dense)                 (None, 64)           49216       dropout_8[0][0]                  \n",
            "__________________________________________________________________________________________________\n",
            "dropout_9 (Dropout)             (None, 64)           0           dense_8[0][0]                    \n",
            "__________________________________________________________________________________________________\n",
            "dense_9 (Dense)                 (None, 1)            65          dropout_9[0][0]                  \n",
            "==================================================================================================\n",
            "Total params: 11,732,865\n",
            "Trainable params: 11,732,865\n",
            "Non-trainable params: 0\n",
            "__________________________________________________________________________________________________\n"
          ],
          "name": "stdout"
        }
      ]
    },
    {
      "cell_type": "code",
      "metadata": {
        "colab": {
          "base_uri": "https://localhost:8080/",
          "height": 54
        },
        "id": "1M2pTr6MfKKv",
        "outputId": "dec35335-e937-411e-c95d-d19acdadaba0"
      },
      "source": [
        "#visualise the model \n",
        "plot_model(test_model)"
      ],
      "execution_count": null,
      "outputs": [
        {
          "output_type": "execute_result",
          "data": {
            "image/png": "[encoded data removed]",
            "text/plain": [
              "<IPython.core.display.Image object>"
            ]
          },
          "metadata": {
            "tags": []
          },
          "execution_count": 61
        }
      ]
    },
    {
      "cell_type": "code",
      "metadata": {
        "id": "fxz3fZoHMqF_"
      },
      "source": [
        "#compile parameters \n",
        "\n",
        "from tensorflow.keras import optimizers\n",
        "from tensorflow.keras.losses import BinaryCrossentropy\n",
        "from tensorflow.keras.metrics import BinaryAccuracy\n",
        "\n",
        "#fit and compile parameters \n",
        "\n",
        "epoch = 10\n",
        "batch_size = 250\n",
        "train_size = 25000\n",
        "val_steps = 10\n",
        "\n",
        "steps_per_epoch = 70\n",
        "step_train = int(steps_per_epoch * epoch)\n",
        "step_warmup = int(0.1* step_train)\n",
        "\n",
        "loss_func = BinaryCrossentropy(from_logits=True)\n",
        "\n",
        "metric = BinaryAccuracy()"
      ],
      "execution_count": null,
      "outputs": []
    },
    {
      "cell_type": "markdown",
      "metadata": {
        "id": "TiLPk6DfN2J9"
      },
      "source": [
        "# ALBERT"
      ]
    },
    {
      "cell_type": "code",
      "metadata": {
        "id": "4MAKsMZqk-qw"
      },
      "source": [
        "#build the adamWeight decay optimizer\n",
        "\n",
        "from official.nlp import optimization\n",
        "from official.nlp.optimization import WarmUp, AdamWeightDecay\n",
        "\n",
        "albert_decay = tf.keras.optimizers.schedules.PolynomialDecay(\n",
        "      initial_learning_rate=3e-5,\n",
        "      decay_steps=step_train,\n",
        "      end_learning_rate=0)\n",
        "\n",
        "albert_warmup = WarmUp(initial_learning_rate=3e-5,\n",
        "                decay_schedule_fn=albert_decay,\n",
        "                warmup_steps=step_warmup)\n",
        "\n",
        "albert_opt = AdamWeightDecay( learning_rate= albert_warmup,\n",
        "        weight_decay_rate=0.01,\n",
        "        exclude_from_weight_decay=['LayerNorm', 'layer_norm', 'bias'],\n",
        "        epsilon=1e-6)\n"
      ],
      "execution_count": null,
      "outputs": []
    },
    {
      "cell_type": "code",
      "metadata": {
        "id": "JYTRAJFe2fT5",
        "colab": {
          "base_uri": "https://localhost:8080/"
        },
        "outputId": "80aab3dd-7221-4e37-88d8-dcf3f6e7424d"
      },
      "source": [
        "#build the albert model\n",
        "\n",
        "albert_model_url = \"https://tfhub.dev/tensorflow/albert_en_base/3\"\n",
        "albert_preprocessor_url = \"http://tfhub.dev/tensorflow/albert_en_preprocess/3\"\n",
        "\n",
        "albert_model = bert_model(albert_model_url, albert_preprocessor_url)"
      ],
      "execution_count": null,
      "outputs": [
        {
          "output_type": "stream",
          "text": [
            "WARNING:tensorflow:7 out of the last 7 calls to <function recreate_function.<locals>.restored_function_body at 0x7fbf30aec9e0> triggered tf.function retracing. Tracing is expensive and the excessive number of tracings could be due to (1) creating @tf.function repeatedly in a loop, (2) passing tensors with different shapes, (3) passing Python objects instead of tensors. For (1), please define your @tf.function outside of the loop. For (2), @tf.function has experimental_relax_shapes=True option that relaxes argument shapes that can avoid unnecessary retracing. For (3), please refer to https://www.tensorflow.org/guide/function#controlling_retracing and https://www.tensorflow.org/api_docs/python/tf/function for  more details.\n"
          ],
          "name": "stdout"
        },
        {
          "output_type": "stream",
          "text": [
            "WARNING:tensorflow:7 out of the last 7 calls to <function recreate_function.<locals>.restored_function_body at 0x7fbf30aec9e0> triggered tf.function retracing. Tracing is expensive and the excessive number of tracings could be due to (1) creating @tf.function repeatedly in a loop, (2) passing tensors with different shapes, (3) passing Python objects instead of tensors. For (1), please define your @tf.function outside of the loop. For (2), @tf.function has experimental_relax_shapes=True option that relaxes argument shapes that can avoid unnecessary retracing. For (3), please refer to https://www.tensorflow.org/guide/function#controlling_retracing and https://www.tensorflow.org/api_docs/python/tf/function for  more details.\n"
          ],
          "name": "stderr"
        },
        {
          "output_type": "stream",
          "text": [
            "WARNING:tensorflow:8 out of the last 8 calls to <function recreate_function.<locals>.restored_function_body at 0x7fbf30ae2ef0> triggered tf.function retracing. Tracing is expensive and the excessive number of tracings could be due to (1) creating @tf.function repeatedly in a loop, (2) passing tensors with different shapes, (3) passing Python objects instead of tensors. For (1), please define your @tf.function outside of the loop. For (2), @tf.function has experimental_relax_shapes=True option that relaxes argument shapes that can avoid unnecessary retracing. For (3), please refer to https://www.tensorflow.org/guide/function#controlling_retracing and https://www.tensorflow.org/api_docs/python/tf/function for  more details.\n"
          ],
          "name": "stdout"
        },
        {
          "output_type": "stream",
          "text": [
            "WARNING:tensorflow:8 out of the last 8 calls to <function recreate_function.<locals>.restored_function_body at 0x7fbf30ae2ef0> triggered tf.function retracing. Tracing is expensive and the excessive number of tracings could be due to (1) creating @tf.function repeatedly in a loop, (2) passing tensors with different shapes, (3) passing Python objects instead of tensors. For (1), please define your @tf.function outside of the loop. For (2), @tf.function has experimental_relax_shapes=True option that relaxes argument shapes that can avoid unnecessary retracing. For (3), please refer to https://www.tensorflow.org/guide/function#controlling_retracing and https://www.tensorflow.org/api_docs/python/tf/function for  more details.\n"
          ],
          "name": "stderr"
        }
      ]
    },
    {
      "cell_type": "code",
      "metadata": {
        "colab": {
          "base_uri": "https://localhost:8080/"
        },
        "id": "rTOlXbtgBbxo",
        "outputId": "19b17478-9e9c-4b4c-820b-7bda1b461a03"
      },
      "source": [
        "#compile and fit albert model \n",
        "\n",
        "albert_model.compile(loss= loss_func,\n",
        "                   optimizer= albert_opt,\n",
        "                   metrics= metric)\n",
        "\n",
        "albert_history = albert_model.fit(train_data,\n",
        "                          epochs= epoch,\n",
        "                          validation_data = val_data,\n",
        "                          shuffle = True,\n",
        "                          validation_steps= val_steps,\n",
        "                          steps_per_epoch = steps_per_epoch,\n",
        "                          batch_size = batch_size,\n",
        "                              )\n"
      ],
      "execution_count": null,
      "outputs": [
        {
          "output_type": "stream",
          "text": [
            "Epoch 1/10\n",
            "WARNING:tensorflow:9 out of the last 9 calls to <function recreate_function.<locals>.restored_function_body at 0x7fbeb14ce290> triggered tf.function retracing. Tracing is expensive and the excessive number of tracings could be due to (1) creating @tf.function repeatedly in a loop, (2) passing tensors with different shapes, (3) passing Python objects instead of tensors. For (1), please define your @tf.function outside of the loop. For (2), @tf.function has experimental_relax_shapes=True option that relaxes argument shapes that can avoid unnecessary retracing. For (3), please refer to https://www.tensorflow.org/guide/function#controlling_retracing and https://www.tensorflow.org/api_docs/python/tf/function for  more details.\n"
          ],
          "name": "stdout"
        },
        {
          "output_type": "stream",
          "text": [
            "WARNING:tensorflow:9 out of the last 9 calls to <function recreate_function.<locals>.restored_function_body at 0x7fbeb14ce290> triggered tf.function retracing. Tracing is expensive and the excessive number of tracings could be due to (1) creating @tf.function repeatedly in a loop, (2) passing tensors with different shapes, (3) passing Python objects instead of tensors. For (1), please define your @tf.function outside of the loop. For (2), @tf.function has experimental_relax_shapes=True option that relaxes argument shapes that can avoid unnecessary retracing. For (3), please refer to https://www.tensorflow.org/guide/function#controlling_retracing and https://www.tensorflow.org/api_docs/python/tf/function for  more details.\n"
          ],
          "name": "stderr"
        },
        {
          "output_type": "stream",
          "text": [
            "70/70 [==============================] - 443s 6s/step - loss: 22.7882 - binary_accuracy: 0.5364 - val_loss: 22.1700 - val_binary_accuracy: 0.7844\n",
            "Epoch 2/10\n",
            "70/70 [==============================] - 430s 6s/step - loss: 22.0063 - binary_accuracy: 0.7954 - val_loss: 21.3929 - val_binary_accuracy: 0.8219\n",
            "Epoch 3/10\n",
            "70/70 [==============================] - 431s 6s/step - loss: 21.3030 - binary_accuracy: 0.8133 - val_loss: 20.6860 - val_binary_accuracy: 0.8594\n",
            "Epoch 4/10\n",
            "70/70 [==============================] - 430s 6s/step - loss: 20.5262 - binary_accuracy: 0.8488 - val_loss: 19.9990 - val_binary_accuracy: 0.8813\n",
            "Epoch 5/10\n",
            "70/70 [==============================] - 431s 6s/step - loss: 19.9127 - binary_accuracy: 0.8494 - val_loss: 19.4490 - val_binary_accuracy: 0.8906\n",
            "Epoch 6/10\n",
            "70/70 [==============================] - 428s 6s/step - loss: 19.3592 - binary_accuracy: 0.8760 - val_loss: 18.9962 - val_binary_accuracy: 0.8813\n",
            "Epoch 7/10\n",
            "70/70 [==============================] - 428s 6s/step - loss: 18.9391 - binary_accuracy: 0.8729 - val_loss: 18.6925 - val_binary_accuracy: 0.8625\n",
            "Epoch 8/10\n",
            "70/70 [==============================] - 425s 6s/step - loss: 18.6117 - binary_accuracy: 0.8814 - val_loss: 18.4252 - val_binary_accuracy: 0.8844\n",
            "Epoch 9/10\n",
            "70/70 [==============================] - 428s 6s/step - loss: 18.4167 - binary_accuracy: 0.8624 - val_loss: 18.2756 - val_binary_accuracy: 0.8562\n",
            "Epoch 10/10\n",
            "70/70 [==============================] - 429s 6s/step - loss: 18.2784 - binary_accuracy: 0.8706 - val_loss: 18.2227 - val_binary_accuracy: 0.8906\n"
          ],
          "name": "stdout"
        }
      ]
    },
    {
      "cell_type": "code",
      "metadata": {
        "id": "eH8HeqZnBB_C",
        "colab": {
          "base_uri": "https://localhost:8080/"
        },
        "outputId": "c9c75f67-6aea-4b51-d17e-7e7afe619e35"
      },
      "source": [
        "#get train and test loss and accuracy \n",
        "albert_test_loss, albert_test_accuracy = albert_model.evaluate(test_data)"
      ],
      "execution_count": null,
      "outputs": [
        {
          "output_type": "stream",
          "text": [
            "469/469 [==============================] - 1007s 2s/step - loss: 18.2349 - binary_accuracy: 0.8846\n"
          ],
          "name": "stdout"
        }
      ]
    },
    {
      "cell_type": "code",
      "metadata": {
        "id": "sF0LJB_Ade_r",
        "colab": {
          "base_uri": "https://localhost:8080/",
          "height": 609
        },
        "outputId": "3360cdea-32d1-4eb0-bdca-efb10211dc1c"
      },
      "source": [
        "# plot the results \n",
        "\n",
        "from matplotlib import pyplot as plt\n",
        "\n",
        "#print(f'Albert Test Loss: {albert_test_loss}')\n",
        "#print(f'Albert Test Accuracy: {albert_test_accuracy}')\n",
        "\n",
        "#plot loss and accuracy\n",
        "\n",
        "\n",
        "plt.title('Albert Loss ')\n",
        "plt.plot(albert_history.history['loss'], color='blue', label='train')\n",
        "plt.plot(albert_history.history['val_loss'], color='orange', label='validation')\n",
        "plt.legend(['Train', 'Validation'])\n",
        "plt.xlabel(\"Epoch\")\n",
        "plt.ylabel(\"Loss\")\n",
        "plt.show()\n",
        "plt.clf()\n",
        "\n",
        "plt.title('Albert Accuracy ')\n",
        "plt.plot(albert_history.history['binary_accuracy'], color='blue', label='train')\n",
        "plt.plot(albert_history.history['val_binary_accuracy'], color='orange', label='validation')\n",
        "plt.legend(['Train', 'Validation'])\n",
        "plt.xlabel(\"Epoch\")\n",
        "plt.ylabel(\"Accuracy\")\n",
        "plt.show()\n",
        "plt.clf()\n"
      ],
      "execution_count": null,
      "outputs": [
        {
          "output_type": "display_data",
          "data": {
            "image/png": "[encoded data removed]",
            "text/plain": [
              "<Figure size 432x288 with 1 Axes>"
            ]
          },
          "metadata": {
            "tags": [],
            "needs_background": "light"
          }
        },
        {
          "output_type": "display_data",
          "data": {
            "image/png": "[encoded data removed]",
            "text/plain": [
              "<Figure size 432x288 with 1 Axes>"
            ]
          },
          "metadata": {
            "tags": [],
            "needs_background": "light"
          }
        },
        {
          "output_type": "display_data",
          "data": {
            "text/plain": [
              "<Figure size 432x288 with 0 Axes>"
            ]
          },
          "metadata": {
            "tags": []
          }
        }
      ]
    },
    {
      "cell_type": "markdown",
      "metadata": {
        "id": "xkOBO9BPGKTF"
      },
      "source": [
        "# Bert Expert\n"
      ]
    },
    {
      "cell_type": "markdown",
      "metadata": {
        "id": "GlQ2uF7WIaOf"
      },
      "source": [
        "https://tfhub.dev/google/experts/bert/wiki_books/sst2/2"
      ]
    },
    {
      "cell_type": "code",
      "metadata": {
        "id": "d8Q7UHzq9un5"
      },
      "source": [
        "#build the adam optimizer \n",
        "\n",
        "expert_decay = tf.keras.optimizers.schedules.PolynomialDecay(\n",
        "      initial_learning_rate=3e-5,\n",
        "      decay_steps=step_train,\n",
        "      end_learning_rate=0)\n",
        "\n",
        "expert_warmup = WarmUp(initial_learning_rate=3e-5,\n",
        "                decay_schedule_fn=expert_decay,\n",
        "                warmup_steps=step_warmup)\n",
        "\n",
        "expert_opt = AdamWeightDecay( learning_rate= expert_warmup,\n",
        "        weight_decay_rate=0.01,\n",
        "        exclude_from_weight_decay=['LayerNorm', 'layer_norm', 'bias'],\n",
        "        epsilon=1e-6)\n"
      ],
      "execution_count": null,
      "outputs": []
    },
    {
      "cell_type": "code",
      "metadata": {
        "id": "lWJ3XpiwF2np",
        "colab": {
          "base_uri": "https://localhost:8080/"
        },
        "outputId": "62e77c8e-3c4d-43bd-f797-6ab2602d74fd"
      },
      "source": [
        "#build the bert expert model\n",
        "\n",
        "bert_expert_url = \"https://tfhub.dev/google/experts/bert/wiki_books/sst2/2\"\n",
        "expert_preprocessor_url = \"https://tfhub.dev/tensorflow/bert_en_uncased_preprocess/3\"\n",
        "\n",
        "bert_expert_model = bert_model(bert_expert_url, expert_preprocessor_url)"
      ],
      "execution_count": null,
      "outputs": [
        {
          "output_type": "stream",
          "text": [
            "WARNING:tensorflow:11 out of the last 11 calls to <function recreate_function.<locals>.restored_function_body at 0x7fbf087cc320> triggered tf.function retracing. Tracing is expensive and the excessive number of tracings could be due to (1) creating @tf.function repeatedly in a loop, (2) passing tensors with different shapes, (3) passing Python objects instead of tensors. For (1), please define your @tf.function outside of the loop. For (2), @tf.function has experimental_relax_shapes=True option that relaxes argument shapes that can avoid unnecessary retracing. For (3), please refer to https://www.tensorflow.org/guide/function#controlling_retracing and https://www.tensorflow.org/api_docs/python/tf/function for  more details.\n"
          ],
          "name": "stdout"
        },
        {
          "output_type": "stream",
          "text": [
            "WARNING:tensorflow:11 out of the last 11 calls to <function recreate_function.<locals>.restored_function_body at 0x7fbf087cc320> triggered tf.function retracing. Tracing is expensive and the excessive number of tracings could be due to (1) creating @tf.function repeatedly in a loop, (2) passing tensors with different shapes, (3) passing Python objects instead of tensors. For (1), please define your @tf.function outside of the loop. For (2), @tf.function has experimental_relax_shapes=True option that relaxes argument shapes that can avoid unnecessary retracing. For (3), please refer to https://www.tensorflow.org/guide/function#controlling_retracing and https://www.tensorflow.org/api_docs/python/tf/function for  more details.\n"
          ],
          "name": "stderr"
        },
        {
          "output_type": "stream",
          "text": [
            "WARNING:tensorflow:11 out of the last 11 calls to <function recreate_function.<locals>.restored_function_body at 0x7fbf08565560> triggered tf.function retracing. Tracing is expensive and the excessive number of tracings could be due to (1) creating @tf.function repeatedly in a loop, (2) passing tensors with different shapes, (3) passing Python objects instead of tensors. For (1), please define your @tf.function outside of the loop. For (2), @tf.function has experimental_relax_shapes=True option that relaxes argument shapes that can avoid unnecessary retracing. For (3), please refer to https://www.tensorflow.org/guide/function#controlling_retracing and https://www.tensorflow.org/api_docs/python/tf/function for  more details.\n"
          ],
          "name": "stdout"
        },
        {
          "output_type": "stream",
          "text": [
            "WARNING:tensorflow:11 out of the last 11 calls to <function recreate_function.<locals>.restored_function_body at 0x7fbf08565560> triggered tf.function retracing. Tracing is expensive and the excessive number of tracings could be due to (1) creating @tf.function repeatedly in a loop, (2) passing tensors with different shapes, (3) passing Python objects instead of tensors. For (1), please define your @tf.function outside of the loop. For (2), @tf.function has experimental_relax_shapes=True option that relaxes argument shapes that can avoid unnecessary retracing. For (3), please refer to https://www.tensorflow.org/guide/function#controlling_retracing and https://www.tensorflow.org/api_docs/python/tf/function for  more details.\n"
          ],
          "name": "stderr"
        },
        {
          "output_type": "stream",
          "text": [
            "WARNING:tensorflow:11 out of the last 11 calls to <function recreate_function.<locals>.restored_function_body at 0x7fbf445d85f0> triggered tf.function retracing. Tracing is expensive and the excessive number of tracings could be due to (1) creating @tf.function repeatedly in a loop, (2) passing tensors with different shapes, (3) passing Python objects instead of tensors. For (1), please define your @tf.function outside of the loop. For (2), @tf.function has experimental_relax_shapes=True option that relaxes argument shapes that can avoid unnecessary retracing. For (3), please refer to https://www.tensorflow.org/guide/function#controlling_retracing and https://www.tensorflow.org/api_docs/python/tf/function for  more details.\n"
          ],
          "name": "stdout"
        },
        {
          "output_type": "stream",
          "text": [
            "WARNING:tensorflow:11 out of the last 11 calls to <function recreate_function.<locals>.restored_function_body at 0x7fbf445d85f0> triggered tf.function retracing. Tracing is expensive and the excessive number of tracings could be due to (1) creating @tf.function repeatedly in a loop, (2) passing tensors with different shapes, (3) passing Python objects instead of tensors. For (1), please define your @tf.function outside of the loop. For (2), @tf.function has experimental_relax_shapes=True option that relaxes argument shapes that can avoid unnecessary retracing. For (3), please refer to https://www.tensorflow.org/guide/function#controlling_retracing and https://www.tensorflow.org/api_docs/python/tf/function for  more details.\n"
          ],
          "name": "stderr"
        }
      ]
    },
    {
      "cell_type": "code",
      "metadata": {
        "colab": {
          "base_uri": "https://localhost:8080/"
        },
        "id": "HymlPpUgRR1c",
        "outputId": "0368ab73-00b7-40a7-81cf-66933733e770"
      },
      "source": [
        "# compile and fit the bert expert model \n",
        "\n",
        "bert_expert_model.compile(loss= loss_func,\n",
        "                   optimizer= expert_opt,\n",
        "                   metrics= metric)\n",
        "\n",
        "bert_expert_history = bert_expert_model.fit(train_data,\n",
        "                          epochs= epoch,\n",
        "                          validation_data = val_data,\n",
        "                          shuffle = True,\n",
        "                          validation_steps= val_steps,\n",
        "                          steps_per_epoch = steps_per_epoch,\n",
        "                              )\n",
        "\n"
      ],
      "execution_count": null,
      "outputs": [
        {
          "output_type": "stream",
          "text": [
            "Epoch 1/10\n",
            "70/70 [==============================] - 457s 6s/step - loss: 22.5136 - binary_accuracy: 0.7162 - val_loss: 21.8656 - val_binary_accuracy: 0.8750\n",
            "Epoch 2/10\n",
            "70/70 [==============================] - 431s 6s/step - loss: 21.6784 - binary_accuracy: 0.8451 - val_loss: 20.8844 - val_binary_accuracy: 0.9000\n",
            "Epoch 3/10\n",
            "70/70 [==============================] - 422s 6s/step - loss: 20.7643 - binary_accuracy: 0.8711 - val_loss: 20.1326 - val_binary_accuracy: 0.8906\n",
            "Epoch 4/10\n",
            "70/70 [==============================] - 414s 6s/step - loss: 20.0311 - binary_accuracy: 0.8641 - val_loss: 19.5416 - val_binary_accuracy: 0.8813\n",
            "Epoch 5/10\n",
            "70/70 [==============================] - 416s 6s/step - loss: 19.4135 - binary_accuracy: 0.8644 - val_loss: 18.9591 - val_binary_accuracy: 0.9000\n",
            "Epoch 6/10\n",
            "70/70 [==============================] - 418s 6s/step - loss: 18.8423 - binary_accuracy: 0.8861 - val_loss: 18.5447 - val_binary_accuracy: 0.8750\n",
            "Epoch 7/10\n",
            "70/70 [==============================] - 419s 6s/step - loss: 18.4741 - binary_accuracy: 0.8819 - val_loss: 18.2399 - val_binary_accuracy: 0.8687\n",
            "Epoch 8/10\n",
            "70/70 [==============================] - 423s 6s/step - loss: 18.1387 - binary_accuracy: 0.8689 - val_loss: 17.9137 - val_binary_accuracy: 0.8938\n",
            "Epoch 9/10\n",
            "70/70 [==============================] - 417s 6s/step - loss: 17.8694 - binary_accuracy: 0.8987 - val_loss: 17.7508 - val_binary_accuracy: 0.8938\n",
            "Epoch 10/10\n",
            "70/70 [==============================] - 420s 6s/step - loss: 17.7741 - binary_accuracy: 0.8830 - val_loss: 17.7187 - val_binary_accuracy: 0.8938\n"
          ],
          "name": "stdout"
        }
      ]
    },
    {
      "cell_type": "markdown",
      "metadata": {
        "id": "18TWZsi7ydcY"
      },
      "source": [
        ""
      ]
    },
    {
      "cell_type": "code",
      "metadata": {
        "colab": {
          "base_uri": "https://localhost:8080/"
        },
        "id": "EViC9QFbR8D6",
        "outputId": "a129ebda-5974-4bd0-bf98-e19626ab8d02"
      },
      "source": [
        "# evaluate the test accuracy \n",
        "\n",
        "bert_expert_test_loss, bert_expert_test_accuracy = bert_expert_model.evaluate(test_data)\n",
        "\n"
      ],
      "execution_count": null,
      "outputs": [
        {
          "output_type": "stream",
          "text": [
            "469/469 [==============================] - 898s 2s/step - loss: 17.7111 - binary_accuracy: 0.8951\n"
          ],
          "name": "stdout"
        }
      ]
    },
    {
      "cell_type": "code",
      "metadata": {
        "colab": {
          "base_uri": "https://localhost:8080/",
          "height": 120
        },
        "id": "fKDjYiIEhO8u",
        "outputId": "bfd9a88d-3231-408f-d813-25c017a74c40"
      },
      "source": [
        "print(f'Bert Expert Loss: {bert_expert_test_loss}')\n",
        "print(f'Bert Expert Accuracy: {bert_expert_test_accuracy}')\n",
        "\n",
        "#plot loss and accuracy\n",
        "\n",
        "plt.title('Bert Expert Loss ')\n",
        "plt.plot(bert_expert_history.history['loss'], color='blue', label='train')\n",
        "plt.plot(bert_expert_history.history['val_loss'], color='orange', label='validation')\n",
        "plt.legend(['Train', 'Validation'])\n",
        "plt.xlabel(\"Epoch\")\n",
        "plt.ylabel(\"Loss\")\n",
        "plt.show()\n",
        "plt.clf()\n",
        "\n",
        "plt.title('Bert Expert Accuracy ')\n",
        "plt.plot(bert_expert_history.history['binary_accuracy'], color='blue', label='train')\n",
        "plt.plot(bert_expert_history.history['val_binary_accuracy'], color='orange', label='validation')\n",
        "plt.legend(['Train', 'Validation'])\n",
        "plt.xlabel(\"Epoch\")\n",
        "plt.ylabel(\"Accuracy\")\n",
        "plt.show()\n",
        "plt.clf()\n"
      ],
      "execution_count": null,
      "outputs": [
        {
          "output_type": "stream",
          "text": [
            "Bert Expert Loss: 17.711069107055664\n",
            "Bert Expert Accuracy: 0.8950666785240173\n"
          ],
          "name": "stdout"
        },
        {
          "output_type": "display_data",
          "data": {
            "image/png": "[encoded data removed]",
            "text/plain": [
              "<Figure size 432x288 with 1 Axes>"
            ]
          },
          "metadata": {
            "tags": [],
            "needs_background": "light"
          }
        },
        {
          "output_type": "display_data",
          "data": {
            "image/png": "[encoded data removed]",
            "text/plain": [
              "<Figure size 432x288 with 1 Axes>"
            ]
          },
          "metadata": {
            "tags": [],
            "needs_background": "light"
          }
        },
        {
          "output_type": "display_data",
          "data": {
            "text/plain": [
              "<Figure size 432x288 with 0 Axes>"
            ]
          },
          "metadata": {
            "tags": []
          }
        }
      ]
    },
    {
      "cell_type": "markdown",
      "metadata": {
        "id": "TiNtfSobSlh3"
      },
      "source": [
        "# ELECTRA\n"
      ]
    },
    {
      "cell_type": "markdown",
      "metadata": {
        "id": "UzwX-8w4Tggh"
      },
      "source": [
        "https://tfhub.dev/google/electra_base/2 "
      ]
    },
    {
      "cell_type": "code",
      "metadata": {
        "id": "OCkdUzV9TBIN"
      },
      "source": [
        "!pip3 install --quiet tensorflow-text"
      ],
      "execution_count": null,
      "outputs": []
    },
    {
      "cell_type": "code",
      "metadata": {
        "id": "_vzkjnpv-bdE"
      },
      "source": [
        "#build the adam decay optimizer\n",
        "from official.nlp import optimization\n",
        "from official.nlp.optimization import WarmUp, AdamWeightDecay\n",
        "\n",
        "\n",
        "electra_decay = tf.keras.optimizers.schedules.PolynomialDecay(\n",
        "      initial_learning_rate=3e-5,\n",
        "      decay_steps=step_train,\n",
        "      end_learning_rate=0)\n",
        "\n",
        "electra_warmup = WarmUp(initial_learning_rate=3e-5,\n",
        "                decay_schedule_fn=electra_decay,\n",
        "                warmup_steps=step_warmup)\n",
        "\n",
        "electra_opt = AdamWeightDecay( learning_rate= electra_warmup,\n",
        "        weight_decay_rate=0.01,\n",
        "        exclude_from_weight_decay=['LayerNorm', 'layer_norm', 'bias'],\n",
        "        epsilon=1e-6)"
      ],
      "execution_count": null,
      "outputs": []
    },
    {
      "cell_type": "code",
      "metadata": {
        "id": "T26mfLVISu-P"
      },
      "source": [
        "#build the electra model \n",
        "\n",
        "electra_url = \"https://tfhub.dev/google/electra_base/2\"\n",
        "electra_preprocessor_url = \"https://tfhub.dev/tensorflow/bert_en_uncased_preprocess/3\"\n",
        "\n",
        "electra_model = bert_model(electra_url, electra_preprocessor_url)\n"
      ],
      "execution_count": null,
      "outputs": []
    },
    {
      "cell_type": "code",
      "metadata": {
        "colab": {
          "base_uri": "https://localhost:8080/"
        },
        "id": "6MOWOXGRU2u1",
        "outputId": "aeb18f77-0353-4ba2-d50f-d54ea763a79f"
      },
      "source": [
        "#compile and fit the electra model \n",
        "\n",
        "electra_model.compile(loss= loss_func,\n",
        "                   optimizer= electra_opt,\n",
        "                   metrics= metric)\n",
        "\n",
        "electra_history = electra_model.fit(train_data,\n",
        "                          epochs= epoch,\n",
        "                          validation_data = val_data,\n",
        "                          shuffle = True,\n",
        "                          validation_steps= val_steps,\n",
        "                          steps_per_epoch = steps_per_epoch,\n",
        "                              )\n",
        "\n"
      ],
      "execution_count": null,
      "outputs": [
        {
          "output_type": "stream",
          "text": [
            "Epoch 1/10\n",
            "70/70 [==============================] - 457s 6s/step - loss: 22.8177 - binary_accuracy: 0.4795 - val_loss: 22.0042 - val_binary_accuracy: 0.8531\n",
            "Epoch 2/10\n",
            "70/70 [==============================] - 431s 6s/step - loss: 21.8522 - binary_accuracy: 0.8282 - val_loss: 21.1650 - val_binary_accuracy: 0.8875\n",
            "Epoch 3/10\n",
            "70/70 [==============================] - 434s 6s/step - loss: 21.0032 - binary_accuracy: 0.8711 - val_loss: 20.4124 - val_binary_accuracy: 0.8625\n",
            "Epoch 4/10\n",
            "70/70 [==============================] - 428s 6s/step - loss: 20.2740 - binary_accuracy: 0.8878 - val_loss: 19.7185 - val_binary_accuracy: 0.9000\n",
            "Epoch 5/10\n",
            "70/70 [==============================] - 427s 6s/step - loss: 19.6482 - binary_accuracy: 0.8785 - val_loss: 19.1634 - val_binary_accuracy: 0.9125\n",
            "Epoch 6/10\n",
            "70/70 [==============================] - 421s 6s/step - loss: 19.1030 - binary_accuracy: 0.8733 - val_loss: 18.7395 - val_binary_accuracy: 0.8969\n",
            "Epoch 7/10\n",
            "70/70 [==============================] - 424s 6s/step - loss: 18.6143 - binary_accuracy: 0.8978 - val_loss: 18.3590 - val_binary_accuracy: 0.9031\n",
            "Epoch 8/10\n",
            "70/70 [==============================] - 433s 6s/step - loss: 18.2716 - binary_accuracy: 0.9099 - val_loss: 18.1086 - val_binary_accuracy: 0.9031\n",
            "Epoch 9/10\n",
            "70/70 [==============================] - 430s 6s/step - loss: 18.0485 - binary_accuracy: 0.9008 - val_loss: 17.9516 - val_binary_accuracy: 0.9156\n",
            "Epoch 10/10\n",
            "70/70 [==============================] - 420s 6s/step - loss: 17.8958 - binary_accuracy: 0.9142 - val_loss: 17.8833 - val_binary_accuracy: 0.9250\n"
          ],
          "name": "stdout"
        }
      ]
    },
    {
      "cell_type": "code",
      "metadata": {
        "id": "3YAD2xf6Vend",
        "colab": {
          "base_uri": "https://localhost:8080/"
        },
        "outputId": "b70fd108-30c9-4648-e742-d585a48bb261"
      },
      "source": [
        "#evaluate the testing accuracy \n",
        "electra_loss, electra_accuracy = electra_model.evaluate(test_data)"
      ],
      "execution_count": null,
      "outputs": [
        {
          "output_type": "stream",
          "text": [
            "469/469 [==============================] - 881s 2s/step - loss: 17.8791 - binary_accuracy: 0.9105\n"
          ],
          "name": "stdout"
        }
      ]
    },
    {
      "cell_type": "code",
      "metadata": {
        "id": "uTrd8FsIikLO",
        "colab": {
          "base_uri": "https://localhost:8080/",
          "height": 642
        },
        "outputId": "c66b50f6-eb1d-4ebb-fc42-c1a567bfac37"
      },
      "source": [
        "print(f'Loss: {electra_loss}')\n",
        "print(f'Accuracy: {electra_accuracy}')\n",
        "\n",
        "#plot loss and accuracy\n",
        "\n",
        "plt.title('Electra Loss ')\n",
        "plt.plot(electra_history.history['loss'], color='blue', label='train')\n",
        "plt.plot(electra_history.history['val_loss'], color='orange', label='validation')\n",
        "plt.legend(['Train', 'Validation'])\n",
        "plt.xlabel(\"Epoch\")\n",
        "plt.ylabel(\"Loss\")\n",
        "plt.show()\n",
        "plt.clf()\n",
        "\n",
        "plt.title('Electra Accuracy ')\n",
        "plt.plot(electra_history.history['binary_accuracy'], color='blue', label='train')\n",
        "plt.plot(electra_history.history['val_binary_accuracy'], color='orange', label='validation')\n",
        "plt.legend(['Train', 'Validation'])\n",
        "plt.xlabel(\"Epoch\")\n",
        "plt.ylabel(\"Accuracy\")\n",
        "plt.show()\n",
        "plt.clf()"
      ],
      "execution_count": null,
      "outputs": [
        {
          "output_type": "stream",
          "text": [
            "Loss: 17.879100799560547\n",
            "Accuracy: 0.9105333089828491\n"
          ],
          "name": "stdout"
        },
        {
          "output_type": "display_data",
          "data": {
            "image/png": "[encoded data removed]",
            "text/plain": [
              "<Figure size 432x288 with 1 Axes>"
            ]
          },
          "metadata": {
            "tags": [],
            "needs_background": "light"
          }
        },
        {
          "output_type": "display_data",
          "data": {
            "image/png": "[encoded data removed]",
            "text/plain": [
              "<Figure size 432x288 with 1 Axes>"
            ]
          },
          "metadata": {
            "tags": [],
            "needs_background": "light"
          }
        },
        {
          "output_type": "display_data",
          "data": {
            "text/plain": [
              "<Figure size 432x288 with 0 Axes>"
            ]
          },
          "metadata": {
            "tags": []
          }
        }
      ]
    },
    {
      "cell_type": "markdown",
      "metadata": {
        "id": "9wGATKSQjFZq"
      },
      "source": [
        "# Final Comparison \n"
      ]
    },
    {
      "cell_type": "code",
      "metadata": {
        "id": "O3Tj6o_xjLoH",
        "colab": {
          "base_uri": "https://localhost:8080/",
          "height": 609
        },
        "outputId": "2b7934c1-e685-47c9-892c-2856bedb3e07"
      },
      "source": [
        "# plot final loss and accuracy \n",
        "plt.title('Train Loss ')\n",
        "plt.plot(lstm_history.history['loss'], color='blue', label='LSTM')\n",
        "plt.plot(albert_history.history['loss'], color='green', label='ALBERT')\n",
        "plt.plot(bert_expert_history.history['loss'], color='red', label='BERT Expert')\n",
        "plt.plot(electra_history.history['loss'], color='orange', label='ELECTRA')\n",
        "plt.legend(['LSTM', 'ALBERT', 'BERT Expert', 'ELECTRA'])\n",
        "plt.xlabel(\"Epoch\")\n",
        "plt.ylabel(\"Loss\")\n",
        "plt.show()\n",
        "plt.clf()\n",
        "\n",
        "plt.title('Train Accuracy ')\n",
        "plt.plot(lstm_history.history['binary_accuracy'], color='blue', label='LSTM')\n",
        "plt.plot(albert_history.history['binary_accuracy'], color='green', label='ALBERT')\n",
        "plt.plot(bert_expert_history.history['binary_accuracy'], color='red', label='BERT Expert')\n",
        "plt.plot(electra_history.history['binary_accuracy'], color='orange', label='ELECTRA')\n",
        "#plt.plot(electra_history.history['val_binary_accuracy'], color='orange', label='test')\n",
        "plt.legend(['LSTM', 'ALBERT', 'BERT Expert', 'ELECTRA' ])\n",
        "plt.xlabel(\"Epoch\")\n",
        "plt.ylabel(\"Accuracy\")\n",
        "plt.show()\n",
        "plt.clf()"
      ],
      "execution_count": null,
      "outputs": [
        {
          "output_type": "display_data",
          "data": {
            "image/png": "[encoded data removed]",
            "text/plain": [
              "<Figure size 432x288 with 1 Axes>"
            ]
          },
          "metadata": {
            "tags": [],
            "needs_background": "light"
          }
        },
        {
          "output_type": "display_data",
          "data": {
            "image/png": "[encoded data removed]",
            "text/plain": [
              "<Figure size 432x288 with 1 Axes>"
            ]
          },
          "metadata": {
            "tags": [],
            "needs_background": "light"
          }
        },
        {
          "output_type": "display_data",
          "data": {
            "text/plain": [
              "<Figure size 432x288 with 0 Axes>"
            ]
          },
          "metadata": {
            "tags": []
          }
        }
      ]
    },
    {
      "cell_type": "code",
      "metadata": {
        "id": "ILFTnT0rs6nZ",
        "colab": {
          "base_uri": "https://localhost:8080/"
        },
        "outputId": "7dbd6667-40a9-4387-958d-cc606e9f31f3"
      },
      "source": [
        "print(f\"Test Accuracy:\\nLSTM: {lstm_test_acc}\\nALBERT: {albert_test_accuracy}\\nBERT Expert: {bert_expert_test_accuracy}\\nELECTRA: {electra_accuracy}\\n\")\n",
        "print(f\"Test Loss:\\nLSTM: {lstm_test_loss}\\nALBERT: {albert_test_loss}\\nBERT Expert: {bert_expert_test_loss}\\nELECTRA: {electra_loss}\")"
      ],
      "execution_count": null,
      "outputs": [
        {
          "output_type": "stream",
          "text": [
            "Test Accuracy:\n",
            "LSTM: 0.7946666479110718\n",
            "ALBERT: 0.8845999836921692\n",
            "BERT Expert: 0.8950666785240173\n",
            "ELECTRA: 0.9105333089828491\n",
            "\n",
            "Test Loss:\n",
            "LSTM: 11.425619125366211\n",
            "ALBERT: 18.234907150268555\n",
            "BERT Expert: 17.711069107055664\n",
            "ELECTRA: 17.879100799560547\n"
          ],
          "name": "stdout"
        }
      ]
    }
  ]
}